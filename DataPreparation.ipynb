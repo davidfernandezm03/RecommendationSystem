{
 "cells": [
  {
   "cell_type": "markdown",
   "metadata": {
    "id": "U0d4rgHtzWg7"
   },
   "source": [
    "### Importing Libraries"
   ]
  },
  {
   "cell_type": "code",
   "execution_count": 1,
   "metadata": {},
   "outputs": [],
   "source": [
    "import pandas as pd\n",
    "import os\n",
    "import re\n",
    "import json\n",
    "from collections import Counter\n",
    "import matplotlib.pyplot as plt\n",
    "%matplotlib inline"
   ]
  },
  {
   "cell_type": "code",
   "execution_count": 2,
   "metadata": {},
   "outputs": [],
   "source": [
    "pd.options.mode.chained_assignment = None"
   ]
  },
  {
   "cell_type": "markdown",
   "metadata": {},
   "source": [
    "### Variables"
   ]
  },
  {
   "cell_type": "code",
   "execution_count": 3,
   "metadata": {},
   "outputs": [],
   "source": [
    "input_folder = './InputData/'\n",
    "output_folder = './OutputData/'\n",
    "\n",
    "if not os.path.exists(output_folder):\n",
    "    os.mkdir(output_folder)"
   ]
  },
  {
   "cell_type": "code",
   "execution_count": 4,
   "metadata": {},
   "outputs": [],
   "source": [
    "animes = pd.read_csv(input_folder + 'animes.csv')\n",
    "profiles = pd.read_csv(input_folder + 'profiles.csv')\n",
    "reviews = pd.read_csv(input_folder + 'reviews.csv')"
   ]
  },
  {
   "cell_type": "markdown",
   "metadata": {},
   "source": [
    "### Table of Contents\n",
    "\n",
    "* [DataFrame de Animes](#chapter1)\n",
    "    * [Input DF Animes](#section_1_1)\n",
    "    * [Output DF Animes](#section_1_2)\n",
    "\n",
    "* [DataFrame de Profiles](#chapter2)\n",
    "    * [Input DF Profiles](#section_2_1)\n",
    "    * [Output DF Profiles](#section_2_2)\n",
    "\n",
    "* [DataFrame de Reviews](#chapter3)\n",
    "    * [Input DF Reviews](#section_3_1)\n",
    "    * [Output DF Reviews](#section_3_2)"
   ]
  },
  {
   "cell_type": "markdown",
   "metadata": {
    "id": "ayXXUvkF3-_H"
   },
   "source": [
    "### DataFrame de Animes <a class=\"anchor\" id=\"chapter1\"></a>"
   ]
  },
  {
   "cell_type": "markdown",
   "metadata": {},
   "source": [
    "#### Input DF Animes <a class=\"anchor\" id=\"section_1_1\"></a>"
   ]
  },
  {
   "cell_type": "code",
   "execution_count": 5,
   "metadata": {
    "colab": {
     "base_uri": "https://localhost:8080/",
     "height": 337
    },
    "id": "0mBkLseWz3Za",
    "outputId": "a1ad3be5-741e-42b1-ca32-defdb41acfac"
   },
   "outputs": [
    {
     "data": {
      "text/html": [
       "<div>\n",
       "<style scoped>\n",
       "    .dataframe tbody tr th:only-of-type {\n",
       "        vertical-align: middle;\n",
       "    }\n",
       "\n",
       "    .dataframe tbody tr th {\n",
       "        vertical-align: top;\n",
       "    }\n",
       "\n",
       "    .dataframe thead th {\n",
       "        text-align: right;\n",
       "    }\n",
       "</style>\n",
       "<table border=\"1\" class=\"dataframe\">\n",
       "  <thead>\n",
       "    <tr style=\"text-align: right;\">\n",
       "      <th></th>\n",
       "      <th>uid</th>\n",
       "      <th>title</th>\n",
       "      <th>synopsis</th>\n",
       "      <th>genre</th>\n",
       "      <th>aired</th>\n",
       "      <th>episodes</th>\n",
       "      <th>members</th>\n",
       "      <th>popularity</th>\n",
       "      <th>ranked</th>\n",
       "      <th>score</th>\n",
       "      <th>img_url</th>\n",
       "      <th>link</th>\n",
       "    </tr>\n",
       "  </thead>\n",
       "  <tbody>\n",
       "    <tr>\n",
       "      <th>0</th>\n",
       "      <td>28891</td>\n",
       "      <td>Haikyuu!! Second Season</td>\n",
       "      <td>Following their participation at the Inter-Hig...</td>\n",
       "      <td>['Comedy', 'Sports', 'Drama', 'School', 'Shoun...</td>\n",
       "      <td>Oct 4, 2015 to Mar 27, 2016</td>\n",
       "      <td>25.0</td>\n",
       "      <td>489888</td>\n",
       "      <td>141</td>\n",
       "      <td>25.0</td>\n",
       "      <td>8.82</td>\n",
       "      <td>https://cdn.myanimelist.net/images/anime/9/766...</td>\n",
       "      <td>https://myanimelist.net/anime/28891/Haikyuu_Se...</td>\n",
       "    </tr>\n",
       "    <tr>\n",
       "      <th>1</th>\n",
       "      <td>23273</td>\n",
       "      <td>Shigatsu wa Kimi no Uso</td>\n",
       "      <td>Music accompanies the path of the human metron...</td>\n",
       "      <td>['Drama', 'Music', 'Romance', 'School', 'Shoun...</td>\n",
       "      <td>Oct 10, 2014 to Mar 20, 2015</td>\n",
       "      <td>22.0</td>\n",
       "      <td>995473</td>\n",
       "      <td>28</td>\n",
       "      <td>24.0</td>\n",
       "      <td>8.83</td>\n",
       "      <td>https://cdn.myanimelist.net/images/anime/3/671...</td>\n",
       "      <td>https://myanimelist.net/anime/23273/Shigatsu_w...</td>\n",
       "    </tr>\n",
       "    <tr>\n",
       "      <th>2</th>\n",
       "      <td>34599</td>\n",
       "      <td>Made in Abyss</td>\n",
       "      <td>The Abyss—a gaping chasm stretching down into ...</td>\n",
       "      <td>['Sci-Fi', 'Adventure', 'Mystery', 'Drama', 'F...</td>\n",
       "      <td>Jul 7, 2017 to Sep 29, 2017</td>\n",
       "      <td>13.0</td>\n",
       "      <td>581663</td>\n",
       "      <td>98</td>\n",
       "      <td>23.0</td>\n",
       "      <td>8.83</td>\n",
       "      <td>https://cdn.myanimelist.net/images/anime/6/867...</td>\n",
       "      <td>https://myanimelist.net/anime/34599/Made_in_Abyss</td>\n",
       "    </tr>\n",
       "    <tr>\n",
       "      <th>3</th>\n",
       "      <td>5114</td>\n",
       "      <td>Fullmetal Alchemist: Brotherhood</td>\n",
       "      <td>\"In order for something to be obtained, someth...</td>\n",
       "      <td>['Action', 'Military', 'Adventure', 'Comedy', ...</td>\n",
       "      <td>Apr 5, 2009 to Jul 4, 2010</td>\n",
       "      <td>64.0</td>\n",
       "      <td>1615084</td>\n",
       "      <td>4</td>\n",
       "      <td>1.0</td>\n",
       "      <td>9.23</td>\n",
       "      <td>https://cdn.myanimelist.net/images/anime/1223/...</td>\n",
       "      <td>https://myanimelist.net/anime/5114/Fullmetal_A...</td>\n",
       "    </tr>\n",
       "    <tr>\n",
       "      <th>4</th>\n",
       "      <td>31758</td>\n",
       "      <td>Kizumonogatari III: Reiketsu-hen</td>\n",
       "      <td>After helping revive the legendary vampire Kis...</td>\n",
       "      <td>['Action', 'Mystery', 'Supernatural', 'Vampire']</td>\n",
       "      <td>Jan 6, 2017</td>\n",
       "      <td>1.0</td>\n",
       "      <td>214621</td>\n",
       "      <td>502</td>\n",
       "      <td>22.0</td>\n",
       "      <td>8.83</td>\n",
       "      <td>https://cdn.myanimelist.net/images/anime/3/815...</td>\n",
       "      <td>https://myanimelist.net/anime/31758/Kizumonoga...</td>\n",
       "    </tr>\n",
       "  </tbody>\n",
       "</table>\n",
       "</div>"
      ],
      "text/plain": [
       "     uid                             title  \\\n",
       "0  28891           Haikyuu!! Second Season   \n",
       "1  23273           Shigatsu wa Kimi no Uso   \n",
       "2  34599                     Made in Abyss   \n",
       "3   5114  Fullmetal Alchemist: Brotherhood   \n",
       "4  31758  Kizumonogatari III: Reiketsu-hen   \n",
       "\n",
       "                                            synopsis  \\\n",
       "0  Following their participation at the Inter-Hig...   \n",
       "1  Music accompanies the path of the human metron...   \n",
       "2  The Abyss—a gaping chasm stretching down into ...   \n",
       "3  \"In order for something to be obtained, someth...   \n",
       "4  After helping revive the legendary vampire Kis...   \n",
       "\n",
       "                                               genre  \\\n",
       "0  ['Comedy', 'Sports', 'Drama', 'School', 'Shoun...   \n",
       "1  ['Drama', 'Music', 'Romance', 'School', 'Shoun...   \n",
       "2  ['Sci-Fi', 'Adventure', 'Mystery', 'Drama', 'F...   \n",
       "3  ['Action', 'Military', 'Adventure', 'Comedy', ...   \n",
       "4   ['Action', 'Mystery', 'Supernatural', 'Vampire']   \n",
       "\n",
       "                          aired  episodes  members  popularity  ranked  score  \\\n",
       "0   Oct 4, 2015 to Mar 27, 2016      25.0   489888         141    25.0   8.82   \n",
       "1  Oct 10, 2014 to Mar 20, 2015      22.0   995473          28    24.0   8.83   \n",
       "2   Jul 7, 2017 to Sep 29, 2017      13.0   581663          98    23.0   8.83   \n",
       "3    Apr 5, 2009 to Jul 4, 2010      64.0  1615084           4     1.0   9.23   \n",
       "4                   Jan 6, 2017       1.0   214621         502    22.0   8.83   \n",
       "\n",
       "                                             img_url  \\\n",
       "0  https://cdn.myanimelist.net/images/anime/9/766...   \n",
       "1  https://cdn.myanimelist.net/images/anime/3/671...   \n",
       "2  https://cdn.myanimelist.net/images/anime/6/867...   \n",
       "3  https://cdn.myanimelist.net/images/anime/1223/...   \n",
       "4  https://cdn.myanimelist.net/images/anime/3/815...   \n",
       "\n",
       "                                                link  \n",
       "0  https://myanimelist.net/anime/28891/Haikyuu_Se...  \n",
       "1  https://myanimelist.net/anime/23273/Shigatsu_w...  \n",
       "2  https://myanimelist.net/anime/34599/Made_in_Abyss  \n",
       "3  https://myanimelist.net/anime/5114/Fullmetal_A...  \n",
       "4  https://myanimelist.net/anime/31758/Kizumonoga...  "
      ]
     },
     "execution_count": 5,
     "metadata": {},
     "output_type": "execute_result"
    }
   ],
   "source": [
    "animes.head()"
   ]
  },
  {
   "cell_type": "code",
   "execution_count": 6,
   "metadata": {},
   "outputs": [
    {
     "data": {
      "text/plain": [
       "Index(['uid', 'title', 'synopsis', 'genre', 'aired', 'episodes', 'members',\n",
       "       'popularity', 'ranked', 'score', 'img_url', 'link'],\n",
       "      dtype='object')"
      ]
     },
     "execution_count": 6,
     "metadata": {},
     "output_type": "execute_result"
    }
   ],
   "source": [
    "animes.columns"
   ]
  },
  {
   "cell_type": "code",
   "execution_count": 7,
   "metadata": {},
   "outputs": [
    {
     "name": "stdout",
     "output_type": "stream",
     "text": [
      "Hay información sobre 19311 animes.\n"
     ]
    },
    {
     "data": {
      "text/plain": [
       "uid             int64\n",
       "title          object\n",
       "synopsis       object\n",
       "genre          object\n",
       "aired          object\n",
       "episodes      float64\n",
       "members         int64\n",
       "popularity      int64\n",
       "ranked        float64\n",
       "score         float64\n",
       "img_url        object\n",
       "link           object\n",
       "dtype: object"
      ]
     },
     "execution_count": 7,
     "metadata": {},
     "output_type": "execute_result"
    }
   ],
   "source": [
    "print('Hay información sobre {} animes.'.format(animes.shape[0]))\n",
    "animes.dtypes"
   ]
  },
  {
   "cell_type": "markdown",
   "metadata": {},
   "source": [
    "El dataset contiene información específica sobre diversos animes. A continuación se va a realizar la eliminación de filas duplicadas por si acaso hubiera animes repetidos."
   ]
  },
  {
   "cell_type": "code",
   "execution_count": 8,
   "metadata": {
    "id": "L-L2X8eZ1Uxw"
   },
   "outputs": [
    {
     "name": "stdout",
     "output_type": "stream",
     "text": [
      "Hay información sobre 16368 diferentes animes.\n"
     ]
    }
   ],
   "source": [
    "animes_v2 = animes.drop_duplicates(keep='first', ignore_index=True)\n",
    "print('Hay información sobre {} diferentes animes.'.format(animes_v2.shape[0]))"
   ]
  },
  {
   "cell_type": "code",
   "execution_count": 9,
   "metadata": {
    "colab": {
     "base_uri": "https://localhost:8080/",
     "height": 300
    },
    "id": "SB8Rczs42cfL",
    "outputId": "7ddef0cc-b05e-4483-8a1e-62c2d64faef5"
   },
   "outputs": [
    {
     "data": {
      "text/html": [
       "<div>\n",
       "<style scoped>\n",
       "    .dataframe tbody tr th:only-of-type {\n",
       "        vertical-align: middle;\n",
       "    }\n",
       "\n",
       "    .dataframe tbody tr th {\n",
       "        vertical-align: top;\n",
       "    }\n",
       "\n",
       "    .dataframe thead th {\n",
       "        text-align: right;\n",
       "    }\n",
       "</style>\n",
       "<table border=\"1\" class=\"dataframe\">\n",
       "  <thead>\n",
       "    <tr style=\"text-align: right;\">\n",
       "      <th></th>\n",
       "      <th>ranked</th>\n",
       "      <th>episodes</th>\n",
       "      <th>score</th>\n",
       "      <th>members</th>\n",
       "      <th>popularity</th>\n",
       "    </tr>\n",
       "  </thead>\n",
       "  <tbody>\n",
       "    <tr>\n",
       "      <th>count</th>\n",
       "      <td>14611.000000</td>\n",
       "      <td>15825.000000</td>\n",
       "      <td>15964.000000</td>\n",
       "      <td>1.636800e+04</td>\n",
       "      <td>16368.000000</td>\n",
       "    </tr>\n",
       "    <tr>\n",
       "      <th>mean</th>\n",
       "      <td>7311.196701</td>\n",
       "      <td>11.658578</td>\n",
       "      <td>6.350745</td>\n",
       "      <td>2.766506e+04</td>\n",
       "      <td>8131.919599</td>\n",
       "    </tr>\n",
       "    <tr>\n",
       "      <th>std</th>\n",
       "      <td>4243.135518</td>\n",
       "      <td>48.853601</td>\n",
       "      <td>0.975120</td>\n",
       "      <td>9.364677e+04</td>\n",
       "      <td>4714.683351</td>\n",
       "    </tr>\n",
       "    <tr>\n",
       "      <th>min</th>\n",
       "      <td>1.000000</td>\n",
       "      <td>1.000000</td>\n",
       "      <td>1.250000</td>\n",
       "      <td>2.500000e+01</td>\n",
       "      <td>1.000000</td>\n",
       "    </tr>\n",
       "    <tr>\n",
       "      <th>25%</th>\n",
       "      <td>3623.500000</td>\n",
       "      <td>1.000000</td>\n",
       "      <td>5.700000</td>\n",
       "      <td>2.970000e+02</td>\n",
       "      <td>4042.500000</td>\n",
       "    </tr>\n",
       "    <tr>\n",
       "      <th>50%</th>\n",
       "      <td>7316.000000</td>\n",
       "      <td>2.000000</td>\n",
       "      <td>6.380000</td>\n",
       "      <td>1.879000e+03</td>\n",
       "      <td>8115.000000</td>\n",
       "    </tr>\n",
       "    <tr>\n",
       "      <th>75%</th>\n",
       "      <td>10978.500000</td>\n",
       "      <td>12.000000</td>\n",
       "      <td>7.050000</td>\n",
       "      <td>1.190100e+04</td>\n",
       "      <td>12208.250000</td>\n",
       "    </tr>\n",
       "    <tr>\n",
       "      <th>max</th>\n",
       "      <td>14675.000000</td>\n",
       "      <td>3057.000000</td>\n",
       "      <td>9.230000</td>\n",
       "      <td>1.871043e+06</td>\n",
       "      <td>16338.000000</td>\n",
       "    </tr>\n",
       "  </tbody>\n",
       "</table>\n",
       "</div>"
      ],
      "text/plain": [
       "             ranked      episodes         score       members    popularity\n",
       "count  14611.000000  15825.000000  15964.000000  1.636800e+04  16368.000000\n",
       "mean    7311.196701     11.658578      6.350745  2.766506e+04   8131.919599\n",
       "std     4243.135518     48.853601      0.975120  9.364677e+04   4714.683351\n",
       "min        1.000000      1.000000      1.250000  2.500000e+01      1.000000\n",
       "25%     3623.500000      1.000000      5.700000  2.970000e+02   4042.500000\n",
       "50%     7316.000000      2.000000      6.380000  1.879000e+03   8115.000000\n",
       "75%    10978.500000     12.000000      7.050000  1.190100e+04  12208.250000\n",
       "max    14675.000000   3057.000000      9.230000  1.871043e+06  16338.000000"
      ]
     },
     "execution_count": 9,
     "metadata": {},
     "output_type": "execute_result"
    }
   ],
   "source": [
    "animes_v2[['ranked', 'episodes', 'score', 'members', 'popularity']].describe()"
   ]
  },
  {
   "cell_type": "markdown",
   "metadata": {},
   "source": [
    "A través de la función describe se han analizado los valores de las columnas ranked y popularity, que corresponden a los números en el ranking y en la popularidad de los distintos animes, sin embargo, como no se sabe cómo han sido asignados estos valores se ha decidido descartar estas columnas y realizar el ranking y la popularidad a partir de las columnas score y members, que contienen la puntuación y el número de miembros del anime dentro de la comunidad, respectivamente."
   ]
  },
  {
   "cell_type": "code",
   "execution_count": 10,
   "metadata": {},
   "outputs": [
    {
     "data": {
      "text/plain": [
       "uid           False\n",
       "title         False\n",
       "synopsis       True\n",
       "genre         False\n",
       "aired         False\n",
       "episodes       True\n",
       "members       False\n",
       "popularity    False\n",
       "ranked         True\n",
       "score          True\n",
       "img_url        True\n",
       "link          False\n",
       "dtype: bool"
      ]
     },
     "execution_count": 10,
     "metadata": {},
     "output_type": "execute_result"
    }
   ],
   "source": [
    "animes_v2.isnull().any()"
   ]
  },
  {
   "cell_type": "markdown",
   "metadata": {},
   "source": [
    "Se ha obtenido que existen columnas que tienen valores nulos como por ejemplo la columna score, sin embargo, se ha decidido no realizar ningún tipo de conversión. Es importante destacar que la columna title no tiene valores nulos, en caso contrario, habría que haber eliminado dichos valores."
   ]
  },
  {
   "cell_type": "code",
   "execution_count": 11,
   "metadata": {},
   "outputs": [],
   "source": [
    "animes_v2.loc[:,'fec'] = animes_v2.loc[:,'aired'].apply(lambda x: re.findall(r'\\d{4}', x))\n",
    "animes_v2.loc[:,'fec_ini'] = animes_v2.loc[:,'fec'].apply(lambda x: x[0] if len(x) > 0 else '?')\n",
    "animes_v2.loc[:,'fec_fin'] = animes_v2.loc[:,'fec'].apply(lambda x: x[1] if len(x)==2 else '?')"
   ]
  },
  {
   "cell_type": "markdown",
   "metadata": {},
   "source": [
    "La columna aired representa la fecha de publicación del anime en MyAnimeList. Se ha visualizado que consta de fecha de inicio de publicación seguido de una coma y a continuación la fecha de fin de publicación. El formato de ambas fechas está formado primero por el mes seguido del día y finalmente el año, por lo que para obtener los años de inicio y fin se ha extraído todos los números que tuvieran exactamente cuatro dígitos, con el objetivo de obtener únicamente los años de publicación."
   ]
  },
  {
   "cell_type": "code",
   "execution_count": 12,
   "metadata": {},
   "outputs": [
    {
     "data": {
      "text/html": [
       "<div>\n",
       "<style scoped>\n",
       "    .dataframe tbody tr th:only-of-type {\n",
       "        vertical-align: middle;\n",
       "    }\n",
       "\n",
       "    .dataframe tbody tr th {\n",
       "        vertical-align: top;\n",
       "    }\n",
       "\n",
       "    .dataframe thead th {\n",
       "        text-align: right;\n",
       "    }\n",
       "</style>\n",
       "<table border=\"1\" class=\"dataframe\">\n",
       "  <thead>\n",
       "    <tr style=\"text-align: right;\">\n",
       "      <th></th>\n",
       "      <th>aired</th>\n",
       "      <th>fec</th>\n",
       "      <th>fec_ini</th>\n",
       "      <th>fec_fin</th>\n",
       "    </tr>\n",
       "  </thead>\n",
       "  <tbody>\n",
       "    <tr>\n",
       "      <th>0</th>\n",
       "      <td>Oct 4, 2015 to Mar 27, 2016</td>\n",
       "      <td>[2015, 2016]</td>\n",
       "      <td>2015</td>\n",
       "      <td>2016</td>\n",
       "    </tr>\n",
       "    <tr>\n",
       "      <th>1</th>\n",
       "      <td>Oct 10, 2014 to Mar 20, 2015</td>\n",
       "      <td>[2014, 2015]</td>\n",
       "      <td>2014</td>\n",
       "      <td>2015</td>\n",
       "    </tr>\n",
       "    <tr>\n",
       "      <th>2</th>\n",
       "      <td>Jul 7, 2017 to Sep 29, 2017</td>\n",
       "      <td>[2017, 2017]</td>\n",
       "      <td>2017</td>\n",
       "      <td>2017</td>\n",
       "    </tr>\n",
       "    <tr>\n",
       "      <th>3</th>\n",
       "      <td>Apr 5, 2009 to Jul 4, 2010</td>\n",
       "      <td>[2009, 2010]</td>\n",
       "      <td>2009</td>\n",
       "      <td>2010</td>\n",
       "    </tr>\n",
       "    <tr>\n",
       "      <th>4</th>\n",
       "      <td>Jan 6, 2017</td>\n",
       "      <td>[2017]</td>\n",
       "      <td>2017</td>\n",
       "      <td>?</td>\n",
       "    </tr>\n",
       "  </tbody>\n",
       "</table>\n",
       "</div>"
      ],
      "text/plain": [
       "                          aired           fec fec_ini fec_fin\n",
       "0   Oct 4, 2015 to Mar 27, 2016  [2015, 2016]    2015    2016\n",
       "1  Oct 10, 2014 to Mar 20, 2015  [2014, 2015]    2014    2015\n",
       "2   Jul 7, 2017 to Sep 29, 2017  [2017, 2017]    2017    2017\n",
       "3    Apr 5, 2009 to Jul 4, 2010  [2009, 2010]    2009    2010\n",
       "4                   Jan 6, 2017        [2017]    2017       ?"
      ]
     },
     "execution_count": 12,
     "metadata": {},
     "output_type": "execute_result"
    }
   ],
   "source": [
    "animes_v2[['aired', 'fec', 'fec_ini', 'fec_fin']].head()"
   ]
  },
  {
   "cell_type": "code",
   "execution_count": 13,
   "metadata": {},
   "outputs": [],
   "source": [
    "animes_v3 = animes_v2.fillna('?')"
   ]
  },
  {
   "cell_type": "markdown",
   "metadata": {},
   "source": [
    "Se ha decidido rellenar los valores nulos con ?."
   ]
  },
  {
   "cell_type": "code",
   "execution_count": 14,
   "metadata": {},
   "outputs": [],
   "source": [
    "columns = ['uid', 'title', 'synopsis', 'genre', 'episodes', 'members',\n",
    "           'score', 'link', 'fec_ini', 'fec_fin']\n",
    "animes_v4 = animes_v3[columns]"
   ]
  },
  {
   "cell_type": "code",
   "execution_count": 15,
   "metadata": {},
   "outputs": [
    {
     "data": {
      "text/plain": [
       "0    ['Comedy', 'Sports', 'Drama', 'School', 'Shoun...\n",
       "1    ['Drama', 'Music', 'Romance', 'School', 'Shoun...\n",
       "2    ['Sci-Fi', 'Adventure', 'Mystery', 'Drama', 'F...\n",
       "3    ['Action', 'Military', 'Adventure', 'Comedy', ...\n",
       "4     ['Action', 'Mystery', 'Supernatural', 'Vampire']\n",
       "Name: genre, dtype: object"
      ]
     },
     "execution_count": 15,
     "metadata": {},
     "output_type": "execute_result"
    }
   ],
   "source": [
    "animes_v4['genre'].head()"
   ]
  },
  {
   "cell_type": "markdown",
   "metadata": {},
   "source": [
    "Dentro de la columna genre se encuentran los géneros a los que pertenecen cada anime, sin embargo, los valores de esta columna contiene múltiples géneros cinematográficos  por lo que se ha decidido expandirlo a múltiples columnas con el objetivo de obtener un acceso más rápido."
   ]
  },
  {
   "cell_type": "code",
   "execution_count": 16,
   "metadata": {},
   "outputs": [],
   "source": [
    "animes_v4.loc[:,'list_genres'] = animes_v4.loc[:,'genre'].apply(\n",
    "    lambda x: re.sub(r\"[^a-zA-Z,]\", \"\", x).split(','))"
   ]
  },
  {
   "cell_type": "code",
   "execution_count": 17,
   "metadata": {},
   "outputs": [
    {
     "data": {
      "text/plain": [
       "0                 [Comedy, Sports, Drama, School, Shounen]\n",
       "1                 [Drama, Music, Romance, School, Shounen]\n",
       "2              [SciFi, Adventure, Mystery, Drama, Fantasy]\n",
       "3        [Action, Military, Adventure, Comedy, Drama, M...\n",
       "4                 [Action, Mystery, Supernatural, Vampire]\n",
       "                               ...                        \n",
       "16363    [Action, Comedy, SuperPower, MartialArts, Shou...\n",
       "16364                  [SliceofLife, Comedy, Supernatural]\n",
       "16365                       [SliceofLife, Comedy, Shounen]\n",
       "16366                                             [Action]\n",
       "16367        [Comedy, Drama, Romance, School, SliceofLife]\n",
       "Name: list_genres, Length: 16368, dtype: object"
      ]
     },
     "execution_count": 17,
     "metadata": {},
     "output_type": "execute_result"
    }
   ],
   "source": [
    "animes_v4['list_genres']"
   ]
  },
  {
   "cell_type": "code",
   "execution_count": 18,
   "metadata": {},
   "outputs": [
    {
     "name": "stdout",
     "output_type": "stream",
     "text": [
      "{'SliceofLife', 'Magic', 'Shounen', '', 'Music', 'SuperPower', 'Samurai', 'Adventure', 'Comedy', 'Parody', 'Police', 'ShounenAi', 'Mystery', 'MartialArts', 'Space', 'Seinen', 'Yaoi', 'Cars', 'Harem', 'Demons', 'Game', 'ShoujoAi', 'Shoujo', 'Mecha', 'Fantasy', 'Historical', 'Horror', 'SciFi', 'Josei', 'Hentai', 'Romance', 'Psychological', 'Kids', 'Supernatural', 'Ecchi', 'Military', 'Thriller', 'School', 'Action', 'Dementia', 'Drama', 'Vampire', 'Yuri', 'Sports'}\n"
     ]
    }
   ],
   "source": [
    "list_genres = []\n",
    "for i in range(animes_v4.shape[0]):\n",
    "    list_genres.extend(animes_v4['list_genres'][i])\n",
    "\n",
    "total_genres = set(list_genres)\n",
    "print(total_genres)"
   ]
  },
  {
   "cell_type": "markdown",
   "metadata": {},
   "source": [
    "Las columnas se han definido con valores binarios, es decir, se les ha asignado el valor 1 si el género correspondiente se encuentra dentro de la columna list_genres y 0 en caso contrario."
   ]
  },
  {
   "cell_type": "code",
   "execution_count": 19,
   "metadata": {},
   "outputs": [],
   "source": [
    "for genre in total_genres:\n",
    "    if genre != '':\n",
    "        animes_v4.loc[:, genre] = animes_v4.loc[:, 'list_genres'].apply(\n",
    "            lambda x: 1 if genre in x else 0)"
   ]
  },
  {
   "cell_type": "code",
   "execution_count": 20,
   "metadata": {},
   "outputs": [
    {
     "data": {
      "text/plain": [
       "Index(['uid', 'title', 'synopsis', 'genre', 'episodes', 'members', 'score',\n",
       "       'link', 'fec_ini', 'fec_fin', 'list_genres', 'SliceofLife', 'Magic',\n",
       "       'Shounen', 'Music', 'SuperPower', 'Samurai', 'Adventure', 'Comedy',\n",
       "       'Parody', 'Police', 'ShounenAi', 'Mystery', 'MartialArts', 'Space',\n",
       "       'Seinen', 'Yaoi', 'Cars', 'Harem', 'Demons', 'Game', 'ShoujoAi',\n",
       "       'Shoujo', 'Mecha', 'Fantasy', 'Historical', 'Horror', 'SciFi', 'Josei',\n",
       "       'Hentai', 'Romance', 'Psychological', 'Kids', 'Supernatural', 'Ecchi',\n",
       "       'Military', 'Thriller', 'School', 'Action', 'Dementia', 'Drama',\n",
       "       'Vampire', 'Yuri', 'Sports'],\n",
       "      dtype='object')"
      ]
     },
     "execution_count": 20,
     "metadata": {},
     "output_type": "execute_result"
    }
   ],
   "source": [
    "animes_v4.columns"
   ]
  },
  {
   "cell_type": "code",
   "execution_count": 21,
   "metadata": {},
   "outputs": [
    {
     "data": {
      "text/html": [
       "<div>\n",
       "<style scoped>\n",
       "    .dataframe tbody tr th:only-of-type {\n",
       "        vertical-align: middle;\n",
       "    }\n",
       "\n",
       "    .dataframe tbody tr th {\n",
       "        vertical-align: top;\n",
       "    }\n",
       "\n",
       "    .dataframe thead th {\n",
       "        text-align: right;\n",
       "    }\n",
       "</style>\n",
       "<table border=\"1\" class=\"dataframe\">\n",
       "  <thead>\n",
       "    <tr style=\"text-align: right;\">\n",
       "      <th></th>\n",
       "      <th>title</th>\n",
       "      <th>list_genres</th>\n",
       "      <th>School</th>\n",
       "      <th>Sports</th>\n",
       "      <th>Comedy</th>\n",
       "      <th>Action</th>\n",
       "      <th>Shounen</th>\n",
       "    </tr>\n",
       "  </thead>\n",
       "  <tbody>\n",
       "    <tr>\n",
       "      <th>0</th>\n",
       "      <td>Haikyuu!! Second Season</td>\n",
       "      <td>[Comedy, Sports, Drama, School, Shounen]</td>\n",
       "      <td>1</td>\n",
       "      <td>1</td>\n",
       "      <td>1</td>\n",
       "      <td>0</td>\n",
       "      <td>1</td>\n",
       "    </tr>\n",
       "    <tr>\n",
       "      <th>1</th>\n",
       "      <td>Shigatsu wa Kimi no Uso</td>\n",
       "      <td>[Drama, Music, Romance, School, Shounen]</td>\n",
       "      <td>1</td>\n",
       "      <td>0</td>\n",
       "      <td>0</td>\n",
       "      <td>0</td>\n",
       "      <td>1</td>\n",
       "    </tr>\n",
       "    <tr>\n",
       "      <th>2</th>\n",
       "      <td>Made in Abyss</td>\n",
       "      <td>[SciFi, Adventure, Mystery, Drama, Fantasy]</td>\n",
       "      <td>0</td>\n",
       "      <td>0</td>\n",
       "      <td>0</td>\n",
       "      <td>0</td>\n",
       "      <td>0</td>\n",
       "    </tr>\n",
       "    <tr>\n",
       "      <th>3</th>\n",
       "      <td>Fullmetal Alchemist: Brotherhood</td>\n",
       "      <td>[Action, Military, Adventure, Comedy, Drama, M...</td>\n",
       "      <td>0</td>\n",
       "      <td>0</td>\n",
       "      <td>1</td>\n",
       "      <td>1</td>\n",
       "      <td>1</td>\n",
       "    </tr>\n",
       "    <tr>\n",
       "      <th>4</th>\n",
       "      <td>Kizumonogatari III: Reiketsu-hen</td>\n",
       "      <td>[Action, Mystery, Supernatural, Vampire]</td>\n",
       "      <td>0</td>\n",
       "      <td>0</td>\n",
       "      <td>0</td>\n",
       "      <td>1</td>\n",
       "      <td>0</td>\n",
       "    </tr>\n",
       "  </tbody>\n",
       "</table>\n",
       "</div>"
      ],
      "text/plain": [
       "                              title  \\\n",
       "0           Haikyuu!! Second Season   \n",
       "1           Shigatsu wa Kimi no Uso   \n",
       "2                     Made in Abyss   \n",
       "3  Fullmetal Alchemist: Brotherhood   \n",
       "4  Kizumonogatari III: Reiketsu-hen   \n",
       "\n",
       "                                         list_genres  School  Sports  Comedy  \\\n",
       "0           [Comedy, Sports, Drama, School, Shounen]       1       1       1   \n",
       "1           [Drama, Music, Romance, School, Shounen]       1       0       0   \n",
       "2        [SciFi, Adventure, Mystery, Drama, Fantasy]       0       0       0   \n",
       "3  [Action, Military, Adventure, Comedy, Drama, M...       0       0       1   \n",
       "4           [Action, Mystery, Supernatural, Vampire]       0       0       0   \n",
       "\n",
       "   Action  Shounen  \n",
       "0       0        1  \n",
       "1       0        1  \n",
       "2       0        0  \n",
       "3       1        1  \n",
       "4       1        0  "
      ]
     },
     "execution_count": 21,
     "metadata": {},
     "output_type": "execute_result"
    }
   ],
   "source": [
    "animes_v4[['title', 'list_genres', 'School', 'Sports', 'Comedy', 'Action', 'Shounen']].head()"
   ]
  },
  {
   "cell_type": "markdown",
   "metadata": {},
   "source": [
    "A continuación se obtienen los diez géneros más comunes. Se ha decidido no eliminar ninguna de las columnas de los géneros en vez de seleccionar unicamente las de los géneros más comunes."
   ]
  },
  {
   "cell_type": "code",
   "execution_count": 22,
   "metadata": {},
   "outputs": [
    {
     "data": {
      "text/plain": [
       "[('Comedy', 5683),\n",
       " ('Action', 3620),\n",
       " ('Fantasy', 3012),\n",
       " ('Adventure', 2770),\n",
       " ('Drama', 2489),\n",
       " ('SciFi', 2486),\n",
       " ('Kids', 2460),\n",
       " ('Shounen', 1934),\n",
       " ('Music', 1869),\n",
       " ('Romance', 1786)]"
      ]
     },
     "execution_count": 22,
     "metadata": {},
     "output_type": "execute_result"
    }
   ],
   "source": [
    "c = Counter(list_genres)\n",
    "c.most_common(10)"
   ]
  },
  {
   "cell_type": "code",
   "execution_count": 23,
   "metadata": {},
   "outputs": [],
   "source": [
    "animes_v4.loc[:,'genres'] = animes_v4.loc[:,'list_genres'].apply(\n",
    "    lambda x: str(x).replace(\"[\", \"\").replace(\"]\", \"\"))"
   ]
  },
  {
   "cell_type": "markdown",
   "metadata": {},
   "source": [
    "Se ha creado una nueva columna llamada genres resultado de la eliminación de los corchetes de la columna list_genres, con el objetivo de dejar ese atributo como un string puro y que sea más fácil a la hora de utilizarlo en Neo4j."
   ]
  },
  {
   "cell_type": "code",
   "execution_count": 24,
   "metadata": {},
   "outputs": [],
   "source": [
    "animes_v5 = animes_v4.copy()\n",
    "animes_v5.drop(columns=['genre', 'list_genres'], inplace=True)"
   ]
  },
  {
   "cell_type": "markdown",
   "metadata": {},
   "source": [
    "#### Output DF Animes <a class=\"anchor\" id=\"section_1_2\"></a>"
   ]
  },
  {
   "cell_type": "code",
   "execution_count": 25,
   "metadata": {},
   "outputs": [
    {
     "data": {
      "text/html": [
       "<div>\n",
       "<style scoped>\n",
       "    .dataframe tbody tr th:only-of-type {\n",
       "        vertical-align: middle;\n",
       "    }\n",
       "\n",
       "    .dataframe tbody tr th {\n",
       "        vertical-align: top;\n",
       "    }\n",
       "\n",
       "    .dataframe thead th {\n",
       "        text-align: right;\n",
       "    }\n",
       "</style>\n",
       "<table border=\"1\" class=\"dataframe\">\n",
       "  <thead>\n",
       "    <tr style=\"text-align: right;\">\n",
       "      <th></th>\n",
       "      <th>uid</th>\n",
       "      <th>title</th>\n",
       "      <th>synopsis</th>\n",
       "      <th>episodes</th>\n",
       "      <th>members</th>\n",
       "      <th>score</th>\n",
       "      <th>link</th>\n",
       "      <th>fec_ini</th>\n",
       "      <th>fec_fin</th>\n",
       "      <th>SliceofLife</th>\n",
       "      <th>...</th>\n",
       "      <th>Military</th>\n",
       "      <th>Thriller</th>\n",
       "      <th>School</th>\n",
       "      <th>Action</th>\n",
       "      <th>Dementia</th>\n",
       "      <th>Drama</th>\n",
       "      <th>Vampire</th>\n",
       "      <th>Yuri</th>\n",
       "      <th>Sports</th>\n",
       "      <th>genres</th>\n",
       "    </tr>\n",
       "  </thead>\n",
       "  <tbody>\n",
       "    <tr>\n",
       "      <th>0</th>\n",
       "      <td>28891</td>\n",
       "      <td>Haikyuu!! Second Season</td>\n",
       "      <td>Following their participation at the Inter-Hig...</td>\n",
       "      <td>25.0</td>\n",
       "      <td>489888</td>\n",
       "      <td>8.82</td>\n",
       "      <td>https://myanimelist.net/anime/28891/Haikyuu_Se...</td>\n",
       "      <td>2015</td>\n",
       "      <td>2016</td>\n",
       "      <td>0</td>\n",
       "      <td>...</td>\n",
       "      <td>0</td>\n",
       "      <td>0</td>\n",
       "      <td>1</td>\n",
       "      <td>0</td>\n",
       "      <td>0</td>\n",
       "      <td>1</td>\n",
       "      <td>0</td>\n",
       "      <td>0</td>\n",
       "      <td>1</td>\n",
       "      <td>'Comedy', 'Sports', 'Drama', 'School', 'Shounen'</td>\n",
       "    </tr>\n",
       "    <tr>\n",
       "      <th>1</th>\n",
       "      <td>23273</td>\n",
       "      <td>Shigatsu wa Kimi no Uso</td>\n",
       "      <td>Music accompanies the path of the human metron...</td>\n",
       "      <td>22.0</td>\n",
       "      <td>995473</td>\n",
       "      <td>8.83</td>\n",
       "      <td>https://myanimelist.net/anime/23273/Shigatsu_w...</td>\n",
       "      <td>2014</td>\n",
       "      <td>2015</td>\n",
       "      <td>0</td>\n",
       "      <td>...</td>\n",
       "      <td>0</td>\n",
       "      <td>0</td>\n",
       "      <td>1</td>\n",
       "      <td>0</td>\n",
       "      <td>0</td>\n",
       "      <td>1</td>\n",
       "      <td>0</td>\n",
       "      <td>0</td>\n",
       "      <td>0</td>\n",
       "      <td>'Drama', 'Music', 'Romance', 'School', 'Shounen'</td>\n",
       "    </tr>\n",
       "    <tr>\n",
       "      <th>2</th>\n",
       "      <td>34599</td>\n",
       "      <td>Made in Abyss</td>\n",
       "      <td>The Abyss—a gaping chasm stretching down into ...</td>\n",
       "      <td>13.0</td>\n",
       "      <td>581663</td>\n",
       "      <td>8.83</td>\n",
       "      <td>https://myanimelist.net/anime/34599/Made_in_Abyss</td>\n",
       "      <td>2017</td>\n",
       "      <td>2017</td>\n",
       "      <td>0</td>\n",
       "      <td>...</td>\n",
       "      <td>0</td>\n",
       "      <td>0</td>\n",
       "      <td>0</td>\n",
       "      <td>0</td>\n",
       "      <td>0</td>\n",
       "      <td>1</td>\n",
       "      <td>0</td>\n",
       "      <td>0</td>\n",
       "      <td>0</td>\n",
       "      <td>'SciFi', 'Adventure', 'Mystery', 'Drama', 'Fan...</td>\n",
       "    </tr>\n",
       "    <tr>\n",
       "      <th>3</th>\n",
       "      <td>5114</td>\n",
       "      <td>Fullmetal Alchemist: Brotherhood</td>\n",
       "      <td>\"In order for something to be obtained, someth...</td>\n",
       "      <td>64.0</td>\n",
       "      <td>1615084</td>\n",
       "      <td>9.23</td>\n",
       "      <td>https://myanimelist.net/anime/5114/Fullmetal_A...</td>\n",
       "      <td>2009</td>\n",
       "      <td>2010</td>\n",
       "      <td>0</td>\n",
       "      <td>...</td>\n",
       "      <td>1</td>\n",
       "      <td>0</td>\n",
       "      <td>0</td>\n",
       "      <td>1</td>\n",
       "      <td>0</td>\n",
       "      <td>1</td>\n",
       "      <td>0</td>\n",
       "      <td>0</td>\n",
       "      <td>0</td>\n",
       "      <td>'Action', 'Military', 'Adventure', 'Comedy', '...</td>\n",
       "    </tr>\n",
       "    <tr>\n",
       "      <th>4</th>\n",
       "      <td>31758</td>\n",
       "      <td>Kizumonogatari III: Reiketsu-hen</td>\n",
       "      <td>After helping revive the legendary vampire Kis...</td>\n",
       "      <td>1.0</td>\n",
       "      <td>214621</td>\n",
       "      <td>8.83</td>\n",
       "      <td>https://myanimelist.net/anime/31758/Kizumonoga...</td>\n",
       "      <td>2017</td>\n",
       "      <td>?</td>\n",
       "      <td>0</td>\n",
       "      <td>...</td>\n",
       "      <td>0</td>\n",
       "      <td>0</td>\n",
       "      <td>0</td>\n",
       "      <td>1</td>\n",
       "      <td>0</td>\n",
       "      <td>0</td>\n",
       "      <td>1</td>\n",
       "      <td>0</td>\n",
       "      <td>0</td>\n",
       "      <td>'Action', 'Mystery', 'Supernatural', 'Vampire'</td>\n",
       "    </tr>\n",
       "  </tbody>\n",
       "</table>\n",
       "<p>5 rows × 53 columns</p>\n",
       "</div>"
      ],
      "text/plain": [
       "     uid                             title  \\\n",
       "0  28891           Haikyuu!! Second Season   \n",
       "1  23273           Shigatsu wa Kimi no Uso   \n",
       "2  34599                     Made in Abyss   \n",
       "3   5114  Fullmetal Alchemist: Brotherhood   \n",
       "4  31758  Kizumonogatari III: Reiketsu-hen   \n",
       "\n",
       "                                            synopsis episodes  members score  \\\n",
       "0  Following their participation at the Inter-Hig...     25.0   489888  8.82   \n",
       "1  Music accompanies the path of the human metron...     22.0   995473  8.83   \n",
       "2  The Abyss—a gaping chasm stretching down into ...     13.0   581663  8.83   \n",
       "3  \"In order for something to be obtained, someth...     64.0  1615084  9.23   \n",
       "4  After helping revive the legendary vampire Kis...      1.0   214621  8.83   \n",
       "\n",
       "                                                link fec_ini fec_fin  \\\n",
       "0  https://myanimelist.net/anime/28891/Haikyuu_Se...    2015    2016   \n",
       "1  https://myanimelist.net/anime/23273/Shigatsu_w...    2014    2015   \n",
       "2  https://myanimelist.net/anime/34599/Made_in_Abyss    2017    2017   \n",
       "3  https://myanimelist.net/anime/5114/Fullmetal_A...    2009    2010   \n",
       "4  https://myanimelist.net/anime/31758/Kizumonoga...    2017       ?   \n",
       "\n",
       "   SliceofLife  ...  Military  Thriller  School  Action  Dementia  Drama  \\\n",
       "0            0  ...         0         0       1       0         0      1   \n",
       "1            0  ...         0         0       1       0         0      1   \n",
       "2            0  ...         0         0       0       0         0      1   \n",
       "3            0  ...         1         0       0       1         0      1   \n",
       "4            0  ...         0         0       0       1         0      0   \n",
       "\n",
       "   Vampire  Yuri  Sports                                             genres  \n",
       "0        0     0       1   'Comedy', 'Sports', 'Drama', 'School', 'Shounen'  \n",
       "1        0     0       0   'Drama', 'Music', 'Romance', 'School', 'Shounen'  \n",
       "2        0     0       0  'SciFi', 'Adventure', 'Mystery', 'Drama', 'Fan...  \n",
       "3        0     0       0  'Action', 'Military', 'Adventure', 'Comedy', '...  \n",
       "4        1     0       0     'Action', 'Mystery', 'Supernatural', 'Vampire'  \n",
       "\n",
       "[5 rows x 53 columns]"
      ]
     },
     "execution_count": 25,
     "metadata": {},
     "output_type": "execute_result"
    }
   ],
   "source": [
    "animes_v5.head()"
   ]
  },
  {
   "cell_type": "code",
   "execution_count": 26,
   "metadata": {},
   "outputs": [
    {
     "data": {
      "text/plain": [
       "(16368, 53)"
      ]
     },
     "execution_count": 26,
     "metadata": {},
     "output_type": "execute_result"
    }
   ],
   "source": [
    "animes_v5.shape"
   ]
  },
  {
   "cell_type": "code",
   "execution_count": 27,
   "metadata": {},
   "outputs": [
    {
     "data": {
      "text/plain": [
       "Index(['uid', 'title', 'synopsis', 'episodes', 'members', 'score', 'link',\n",
       "       'fec_ini', 'fec_fin', 'SliceofLife', 'Magic', 'Shounen', 'Music',\n",
       "       'SuperPower', 'Samurai', 'Adventure', 'Comedy', 'Parody', 'Police',\n",
       "       'ShounenAi', 'Mystery', 'MartialArts', 'Space', 'Seinen', 'Yaoi',\n",
       "       'Cars', 'Harem', 'Demons', 'Game', 'ShoujoAi', 'Shoujo', 'Mecha',\n",
       "       'Fantasy', 'Historical', 'Horror', 'SciFi', 'Josei', 'Hentai',\n",
       "       'Romance', 'Psychological', 'Kids', 'Supernatural', 'Ecchi', 'Military',\n",
       "       'Thriller', 'School', 'Action', 'Dementia', 'Drama', 'Vampire', 'Yuri',\n",
       "       'Sports', 'genres'],\n",
       "      dtype='object')"
      ]
     },
     "execution_count": 27,
     "metadata": {},
     "output_type": "execute_result"
    }
   ],
   "source": [
    "animes_v5.columns"
   ]
  },
  {
   "cell_type": "code",
   "execution_count": 28,
   "metadata": {},
   "outputs": [],
   "source": [
    "animes_v5.to_csv(output_folder + 'animes.csv', index=False)"
   ]
  },
  {
   "cell_type": "markdown",
   "metadata": {
    "id": "XJ5CUA1l4DP9"
   },
   "source": [
    "### DataFrame de Profiles <a class=\"anchor\" id=\"chapter2\"></a>"
   ]
  },
  {
   "cell_type": "markdown",
   "metadata": {},
   "source": [
    "#### Input DF Profiles <a class=\"anchor\" id=\"section_2_1\"></a>"
   ]
  },
  {
   "cell_type": "code",
   "execution_count": 29,
   "metadata": {
    "colab": {
     "base_uri": "https://localhost:8080/",
     "height": 206
    },
    "id": "hQYlue1a3rLY",
    "outputId": "28cac4be-5e6e-417f-df9f-7cc09fc78b3c"
   },
   "outputs": [
    {
     "data": {
      "text/html": [
       "<div>\n",
       "<style scoped>\n",
       "    .dataframe tbody tr th:only-of-type {\n",
       "        vertical-align: middle;\n",
       "    }\n",
       "\n",
       "    .dataframe tbody tr th {\n",
       "        vertical-align: top;\n",
       "    }\n",
       "\n",
       "    .dataframe thead th {\n",
       "        text-align: right;\n",
       "    }\n",
       "</style>\n",
       "<table border=\"1\" class=\"dataframe\">\n",
       "  <thead>\n",
       "    <tr style=\"text-align: right;\">\n",
       "      <th></th>\n",
       "      <th>profile</th>\n",
       "      <th>gender</th>\n",
       "      <th>birthday</th>\n",
       "      <th>favorites_anime</th>\n",
       "      <th>link</th>\n",
       "    </tr>\n",
       "  </thead>\n",
       "  <tbody>\n",
       "    <tr>\n",
       "      <th>0</th>\n",
       "      <td>DesolatePsyche</td>\n",
       "      <td>Male</td>\n",
       "      <td>Oct 2, 1994</td>\n",
       "      <td>['33352', '25013', '5530', '33674', '1482', '2...</td>\n",
       "      <td>https://myanimelist.net/profile/DesolatePsyche</td>\n",
       "    </tr>\n",
       "    <tr>\n",
       "      <th>1</th>\n",
       "      <td>baekbeans</td>\n",
       "      <td>Female</td>\n",
       "      <td>Nov 10, 2000</td>\n",
       "      <td>['11061', '31964', '853', '20583', '918', '925...</td>\n",
       "      <td>https://myanimelist.net/profile/baekbeans</td>\n",
       "    </tr>\n",
       "    <tr>\n",
       "      <th>2</th>\n",
       "      <td>skrn</td>\n",
       "      <td>NaN</td>\n",
       "      <td>NaN</td>\n",
       "      <td>['918', '2904', '11741', '17074', '23273', '32...</td>\n",
       "      <td>https://myanimelist.net/profile/skrn</td>\n",
       "    </tr>\n",
       "    <tr>\n",
       "      <th>3</th>\n",
       "      <td>edgewalker00</td>\n",
       "      <td>Male</td>\n",
       "      <td>Sep 5</td>\n",
       "      <td>['5680', '849', '2904', '3588', '37349']</td>\n",
       "      <td>https://myanimelist.net/profile/edgewalker00</td>\n",
       "    </tr>\n",
       "    <tr>\n",
       "      <th>4</th>\n",
       "      <td>aManOfCulture99</td>\n",
       "      <td>Male</td>\n",
       "      <td>Oct 30, 1999</td>\n",
       "      <td>['4181', '7791', '9617', '5680', '2167', '4382...</td>\n",
       "      <td>https://myanimelist.net/profile/aManOfCulture99</td>\n",
       "    </tr>\n",
       "  </tbody>\n",
       "</table>\n",
       "</div>"
      ],
      "text/plain": [
       "           profile  gender      birthday  \\\n",
       "0   DesolatePsyche    Male   Oct 2, 1994   \n",
       "1        baekbeans  Female  Nov 10, 2000   \n",
       "2             skrn     NaN           NaN   \n",
       "3     edgewalker00    Male         Sep 5   \n",
       "4  aManOfCulture99    Male  Oct 30, 1999   \n",
       "\n",
       "                                     favorites_anime  \\\n",
       "0  ['33352', '25013', '5530', '33674', '1482', '2...   \n",
       "1  ['11061', '31964', '853', '20583', '918', '925...   \n",
       "2  ['918', '2904', '11741', '17074', '23273', '32...   \n",
       "3           ['5680', '849', '2904', '3588', '37349']   \n",
       "4  ['4181', '7791', '9617', '5680', '2167', '4382...   \n",
       "\n",
       "                                              link  \n",
       "0   https://myanimelist.net/profile/DesolatePsyche  \n",
       "1        https://myanimelist.net/profile/baekbeans  \n",
       "2             https://myanimelist.net/profile/skrn  \n",
       "3     https://myanimelist.net/profile/edgewalker00  \n",
       "4  https://myanimelist.net/profile/aManOfCulture99  "
      ]
     },
     "execution_count": 29,
     "metadata": {},
     "output_type": "execute_result"
    }
   ],
   "source": [
    "profiles.head()"
   ]
  },
  {
   "cell_type": "code",
   "execution_count": 30,
   "metadata": {
    "colab": {
     "base_uri": "https://localhost:8080/"
    },
    "id": "1j7Btvm48FW6",
    "outputId": "e664e62a-2058-49a0-b80c-0b8dfbbbcd86"
   },
   "outputs": [
    {
     "name": "stdout",
     "output_type": "stream",
     "text": [
      "Hay 81727 perfiles de usuarios.\n"
     ]
    },
    {
     "data": {
      "text/plain": [
       "profile            object\n",
       "gender             object\n",
       "birthday           object\n",
       "favorites_anime    object\n",
       "link               object\n",
       "dtype: object"
      ]
     },
     "execution_count": 30,
     "metadata": {},
     "output_type": "execute_result"
    }
   ],
   "source": [
    "print('Hay {} perfiles de usuarios.'.format(profiles.shape[0]))\n",
    "profiles.dtypes"
   ]
  },
  {
   "cell_type": "markdown",
   "metadata": {},
   "source": [
    "El fichero contiene información sobre los perfiles de los usuarios de la comunidad de MyAnimeList. A continuación se han eliminado aquellas filas que estaban duplicadas."
   ]
  },
  {
   "cell_type": "code",
   "execution_count": 31,
   "metadata": {
    "id": "m1sYBn9k898_"
   },
   "outputs": [
    {
     "name": "stdout",
     "output_type": "stream",
     "text": [
      "Hay 47902 perfiles distintos.\n"
     ]
    }
   ],
   "source": [
    "profiles_v2 = profiles.drop_duplicates(keep='first', ignore_index=True)\n",
    "print('Hay {} perfiles distintos.'.format(profiles_v2.shape[0]))"
   ]
  },
  {
   "cell_type": "code",
   "execution_count": 32,
   "metadata": {},
   "outputs": [
    {
     "data": {
      "text/plain": [
       "profile            False\n",
       "gender              True\n",
       "birthday            True\n",
       "favorites_anime    False\n",
       "link               False\n",
       "dtype: bool"
      ]
     },
     "execution_count": 32,
     "metadata": {},
     "output_type": "execute_result"
    }
   ],
   "source": [
    "profiles_v2.isnull().any()"
   ]
  },
  {
   "cell_type": "markdown",
   "metadata": {},
   "source": [
    "Se ha obtenido que solamente las columnas gender  y birthday tienen valores nulos, por lo que se ha definido un nuevo dataset profiles_v3 donde los datos nulos han sido rellenados con el valor X, para poder seguir investigando el contenido de los datos."
   ]
  },
  {
   "cell_type": "code",
   "execution_count": 33,
   "metadata": {},
   "outputs": [
    {
     "data": {
      "text/plain": [
       "array(['Male', 'Female', nan, 'Non-Binary'], dtype=object)"
      ]
     },
     "execution_count": 33,
     "metadata": {},
     "output_type": "execute_result"
    }
   ],
   "source": [
    "profiles_v2.gender.unique()"
   ]
  },
  {
   "cell_type": "code",
   "execution_count": 34,
   "metadata": {},
   "outputs": [],
   "source": [
    "profiles_v3 = profiles_v2.fillna(value='X')"
   ]
  },
  {
   "cell_type": "markdown",
   "metadata": {},
   "source": [
    "Se ha identificado que existen perfiles que no tienen ningún anime favorito, es decir, que el campo favorites_anime se encuentra vacío, por lo que no ayudarían al sistema de recomendación y como no son de utilidad se ha decidido eliminarlos."
   ]
  },
  {
   "cell_type": "code",
   "execution_count": 35,
   "metadata": {},
   "outputs": [],
   "source": [
    "profiles_v3.loc[:,'empty_list'] = profiles_v3.loc[:, 'favorites_anime'].apply(\n",
    "    lambda x: True if len(x)==2 else False)"
   ]
  },
  {
   "cell_type": "code",
   "execution_count": 36,
   "metadata": {},
   "outputs": [
    {
     "data": {
      "text/html": [
       "<div>\n",
       "<style scoped>\n",
       "    .dataframe tbody tr th:only-of-type {\n",
       "        vertical-align: middle;\n",
       "    }\n",
       "\n",
       "    .dataframe tbody tr th {\n",
       "        vertical-align: top;\n",
       "    }\n",
       "\n",
       "    .dataframe thead th {\n",
       "        text-align: right;\n",
       "    }\n",
       "</style>\n",
       "<table border=\"1\" class=\"dataframe\">\n",
       "  <thead>\n",
       "    <tr style=\"text-align: right;\">\n",
       "      <th></th>\n",
       "      <th>favorites_anime</th>\n",
       "      <th>empty_list</th>\n",
       "    </tr>\n",
       "  </thead>\n",
       "  <tbody>\n",
       "    <tr>\n",
       "      <th>0</th>\n",
       "      <td>['33352', '25013', '5530', '33674', '1482', '2...</td>\n",
       "      <td>False</td>\n",
       "    </tr>\n",
       "    <tr>\n",
       "      <th>1</th>\n",
       "      <td>['11061', '31964', '853', '20583', '918', '925...</td>\n",
       "      <td>False</td>\n",
       "    </tr>\n",
       "    <tr>\n",
       "      <th>2</th>\n",
       "      <td>['918', '2904', '11741', '17074', '23273', '32...</td>\n",
       "      <td>False</td>\n",
       "    </tr>\n",
       "    <tr>\n",
       "      <th>3</th>\n",
       "      <td>['5680', '849', '2904', '3588', '37349']</td>\n",
       "      <td>False</td>\n",
       "    </tr>\n",
       "    <tr>\n",
       "      <th>4</th>\n",
       "      <td>['4181', '7791', '9617', '5680', '2167', '4382...</td>\n",
       "      <td>False</td>\n",
       "    </tr>\n",
       "    <tr>\n",
       "      <th>...</th>\n",
       "      <td>...</td>\n",
       "      <td>...</td>\n",
       "    </tr>\n",
       "    <tr>\n",
       "      <th>47897</th>\n",
       "      <td>[]</td>\n",
       "      <td>True</td>\n",
       "    </tr>\n",
       "    <tr>\n",
       "      <th>47898</th>\n",
       "      <td>['37510', '35180', '30', '31043', '5081', '374...</td>\n",
       "      <td>False</td>\n",
       "    </tr>\n",
       "    <tr>\n",
       "      <th>47899</th>\n",
       "      <td>[]</td>\n",
       "      <td>True</td>\n",
       "    </tr>\n",
       "    <tr>\n",
       "      <th>47900</th>\n",
       "      <td>[]</td>\n",
       "      <td>True</td>\n",
       "    </tr>\n",
       "    <tr>\n",
       "      <th>47901</th>\n",
       "      <td>[]</td>\n",
       "      <td>True</td>\n",
       "    </tr>\n",
       "  </tbody>\n",
       "</table>\n",
       "<p>47902 rows × 2 columns</p>\n",
       "</div>"
      ],
      "text/plain": [
       "                                         favorites_anime  empty_list\n",
       "0      ['33352', '25013', '5530', '33674', '1482', '2...       False\n",
       "1      ['11061', '31964', '853', '20583', '918', '925...       False\n",
       "2      ['918', '2904', '11741', '17074', '23273', '32...       False\n",
       "3               ['5680', '849', '2904', '3588', '37349']       False\n",
       "4      ['4181', '7791', '9617', '5680', '2167', '4382...       False\n",
       "...                                                  ...         ...\n",
       "47897                                                 []        True\n",
       "47898  ['37510', '35180', '30', '31043', '5081', '374...       False\n",
       "47899                                                 []        True\n",
       "47900                                                 []        True\n",
       "47901                                                 []        True\n",
       "\n",
       "[47902 rows x 2 columns]"
      ]
     },
     "execution_count": 36,
     "metadata": {},
     "output_type": "execute_result"
    }
   ],
   "source": [
    "profiles_v3[['favorites_anime', 'empty_list']]"
   ]
  },
  {
   "cell_type": "code",
   "execution_count": 37,
   "metadata": {},
   "outputs": [
    {
     "name": "stdout",
     "output_type": "stream",
     "text": [
      "Hay información de 37478 perfiles activos\n"
     ]
    }
   ],
   "source": [
    "profiles_v4 = profiles_v3[profiles_v3['empty_list'] == False]\n",
    "print('Hay información de {} perfiles activos'.format(profiles_v4.shape[0]))"
   ]
  },
  {
   "cell_type": "markdown",
   "metadata": {},
   "source": [
    "Se ha analizado la importancia de la variable birthday. Debido a que cada usuario ha rellenado de una forma diferente la fecha de cumpleaños, se ha intentado obtener el año de nacimiento extrayendo los números que constan exactamente de cuatro dígitos seguidos y si no se consigue se ha rellenado con una interrogación,"
   ]
  },
  {
   "cell_type": "code",
   "execution_count": 38,
   "metadata": {},
   "outputs": [],
   "source": [
    "def regex_extract(x):\n",
    "    try:\n",
    "        pattern = r'\\d{4}'\n",
    "        result = re.findall(pattern, x)\n",
    "        return int(result[0])\n",
    "    except:\n",
    "        return '?'\n",
    "\n",
    "profiles_v4.loc[:,'year_birthday'] = profiles_v4.loc[:, 'birthday'].apply(regex_extract)"
   ]
  },
  {
   "cell_type": "code",
   "execution_count": 39,
   "metadata": {},
   "outputs": [
    {
     "data": {
      "text/html": [
       "<div>\n",
       "<style scoped>\n",
       "    .dataframe tbody tr th:only-of-type {\n",
       "        vertical-align: middle;\n",
       "    }\n",
       "\n",
       "    .dataframe tbody tr th {\n",
       "        vertical-align: top;\n",
       "    }\n",
       "\n",
       "    .dataframe thead th {\n",
       "        text-align: right;\n",
       "    }\n",
       "</style>\n",
       "<table border=\"1\" class=\"dataframe\">\n",
       "  <thead>\n",
       "    <tr style=\"text-align: right;\">\n",
       "      <th></th>\n",
       "      <th>birthday</th>\n",
       "      <th>year_birthday</th>\n",
       "    </tr>\n",
       "  </thead>\n",
       "  <tbody>\n",
       "    <tr>\n",
       "      <th>0</th>\n",
       "      <td>Oct 2, 1994</td>\n",
       "      <td>1994</td>\n",
       "    </tr>\n",
       "    <tr>\n",
       "      <th>1</th>\n",
       "      <td>Nov 10, 2000</td>\n",
       "      <td>2000</td>\n",
       "    </tr>\n",
       "    <tr>\n",
       "      <th>2</th>\n",
       "      <td>X</td>\n",
       "      <td>?</td>\n",
       "    </tr>\n",
       "    <tr>\n",
       "      <th>3</th>\n",
       "      <td>Sep 5</td>\n",
       "      <td>?</td>\n",
       "    </tr>\n",
       "    <tr>\n",
       "      <th>4</th>\n",
       "      <td>Oct 30, 1999</td>\n",
       "      <td>1999</td>\n",
       "    </tr>\n",
       "  </tbody>\n",
       "</table>\n",
       "</div>"
      ],
      "text/plain": [
       "       birthday year_birthday\n",
       "0   Oct 2, 1994          1994\n",
       "1  Nov 10, 2000          2000\n",
       "2             X             ?\n",
       "3         Sep 5             ?\n",
       "4  Oct 30, 1999          1999"
      ]
     },
     "execution_count": 39,
     "metadata": {},
     "output_type": "execute_result"
    }
   ],
   "source": [
    "profiles_v4[['birthday', 'year_birthday']].head()"
   ]
  },
  {
   "cell_type": "code",
   "execution_count": 40,
   "metadata": {},
   "outputs": [],
   "source": [
    "profiles_v4.loc[:, 'list_favorites'] = profiles_v4.loc[:,'favorites_anime'].apply(\n",
    "    lambda x: re.sub(r\"[^0-9,]\", \"\", x).split(','))\n",
    "\n",
    "profiles_v4.loc[:, 'list_favorites'] = profiles_v4.loc[:,'list_favorites'].apply(\n",
    "    lambda x: [int(y) for y in x])"
   ]
  },
  {
   "cell_type": "code",
   "execution_count": 41,
   "metadata": {},
   "outputs": [
    {
     "data": {
      "text/html": [
       "<div>\n",
       "<style scoped>\n",
       "    .dataframe tbody tr th:only-of-type {\n",
       "        vertical-align: middle;\n",
       "    }\n",
       "\n",
       "    .dataframe tbody tr th {\n",
       "        vertical-align: top;\n",
       "    }\n",
       "\n",
       "    .dataframe thead th {\n",
       "        text-align: right;\n",
       "    }\n",
       "</style>\n",
       "<table border=\"1\" class=\"dataframe\">\n",
       "  <thead>\n",
       "    <tr style=\"text-align: right;\">\n",
       "      <th></th>\n",
       "      <th>favorites_anime</th>\n",
       "      <th>list_favorites</th>\n",
       "    </tr>\n",
       "  </thead>\n",
       "  <tbody>\n",
       "    <tr>\n",
       "      <th>0</th>\n",
       "      <td>['33352', '25013', '5530', '33674', '1482', '2...</td>\n",
       "      <td>[33352, 25013, 5530, 33674, 1482, 269, 18245, ...</td>\n",
       "    </tr>\n",
       "    <tr>\n",
       "      <th>1</th>\n",
       "      <td>['11061', '31964', '853', '20583', '918', '925...</td>\n",
       "      <td>[11061, 31964, 853, 20583, 918, 9253, 34599, 3...</td>\n",
       "    </tr>\n",
       "    <tr>\n",
       "      <th>2</th>\n",
       "      <td>['918', '2904', '11741', '17074', '23273', '32...</td>\n",
       "      <td>[918, 2904, 11741, 17074, 23273, 32281, 9989, ...</td>\n",
       "    </tr>\n",
       "    <tr>\n",
       "      <th>3</th>\n",
       "      <td>['5680', '849', '2904', '3588', '37349']</td>\n",
       "      <td>[5680, 849, 2904, 3588, 37349]</td>\n",
       "    </tr>\n",
       "    <tr>\n",
       "      <th>4</th>\n",
       "      <td>['4181', '7791', '9617', '5680', '2167', '4382...</td>\n",
       "      <td>[4181, 7791, 9617, 5680, 2167, 4382, 849, 235,...</td>\n",
       "    </tr>\n",
       "  </tbody>\n",
       "</table>\n",
       "</div>"
      ],
      "text/plain": [
       "                                     favorites_anime  \\\n",
       "0  ['33352', '25013', '5530', '33674', '1482', '2...   \n",
       "1  ['11061', '31964', '853', '20583', '918', '925...   \n",
       "2  ['918', '2904', '11741', '17074', '23273', '32...   \n",
       "3           ['5680', '849', '2904', '3588', '37349']   \n",
       "4  ['4181', '7791', '9617', '5680', '2167', '4382...   \n",
       "\n",
       "                                      list_favorites  \n",
       "0  [33352, 25013, 5530, 33674, 1482, 269, 18245, ...  \n",
       "1  [11061, 31964, 853, 20583, 918, 9253, 34599, 3...  \n",
       "2  [918, 2904, 11741, 17074, 23273, 32281, 9989, ...  \n",
       "3                     [5680, 849, 2904, 3588, 37349]  \n",
       "4  [4181, 7791, 9617, 5680, 2167, 4382, 849, 235,...  "
      ]
     },
     "execution_count": 41,
     "metadata": {},
     "output_type": "execute_result"
    }
   ],
   "source": [
    "profiles_v4[['favorites_anime', 'list_favorites']].head()"
   ]
  },
  {
   "cell_type": "markdown",
   "metadata": {},
   "source": [
    "Se han agrupado los valores por la columna gender con el objetivo de realizar un conteo de filas."
   ]
  },
  {
   "cell_type": "code",
   "execution_count": 42,
   "metadata": {},
   "outputs": [],
   "source": [
    "profiles_v4.loc[:,'total_favorites'] = profiles_v4.loc[:, 'list_favorites'].apply(lambda x: len(x))"
   ]
  },
  {
   "cell_type": "code",
   "execution_count": 43,
   "metadata": {},
   "outputs": [
    {
     "data": {
      "text/plain": [
       "gender\n",
       "Female        22.426490\n",
       "Male          50.656385\n",
       "Non-Binary     0.960564\n",
       "X             25.956561\n",
       "Name: profile, dtype: float64"
      ]
     },
     "execution_count": 43,
     "metadata": {},
     "output_type": "execute_result"
    }
   ],
   "source": [
    "(profiles_v4.groupby('gender').count()['profile'] / profiles_v4.shape[0]) * 100"
   ]
  },
  {
   "cell_type": "code",
   "execution_count": 44,
   "metadata": {},
   "outputs": [
    {
     "data": {
      "text/plain": [
       "<AxesSubplot:xlabel='gender'>"
      ]
     },
     "execution_count": 44,
     "metadata": {},
     "output_type": "execute_result"
    },
    {
     "data": {
      "image/png": "[encoded data removed]",
      "text/plain": [
       "<Figure size 432x288 with 1 Axes>"
      ]
     },
     "metadata": {
      "needs_background": "light"
     },
     "output_type": "display_data"
    }
   ],
   "source": [
    "profiles_v4.groupby('gender').count()['total_favorites'].plot(kind='bar')"
   ]
  },
  {
   "cell_type": "markdown",
   "metadata": {},
   "source": [
    "Los resultados muestran que el 50% de los usuarios de la comunidad son hombres, mientras que las mujeres solamente corresponden un 22%, lo que implica una buena información para poder agrupar los perfiles por su género. Hay menos de un 1% de usuarios que no han querido definir su sexo, sin embargo, hay un 26% de usuarios que no han querido rellenar el valor de sexo. Adicionalmente, se ha querido analizar la información que aportan los tipos de géneros en cuanto al número de favoritos y se ha realizado un gráfico para obtener la media del valor total_favorites, calculado previamente."
   ]
  },
  {
   "cell_type": "code",
   "execution_count": 45,
   "metadata": {},
   "outputs": [
    {
     "data": {
      "text/plain": [
       "<AxesSubplot:xlabel='gender'>"
      ]
     },
     "execution_count": 45,
     "metadata": {},
     "output_type": "execute_result"
    },
    {
     "data": {
      "image/png": "[encoded data removed]",
      "text/plain": [
       "<Figure size 432x288 with 1 Axes>"
      ]
     },
     "metadata": {
      "needs_background": "light"
     },
     "output_type": "display_data"
    }
   ],
   "source": [
    "profiles_v4.groupby('gender').mean()['total_favorites'].plot(kind='bar')"
   ]
  },
  {
   "cell_type": "code",
   "execution_count": 46,
   "metadata": {},
   "outputs": [
    {
     "data": {
      "text/plain": [
       "<AxesSubplot:xlabel='year_birthday'>"
      ]
     },
     "execution_count": 46,
     "metadata": {},
     "output_type": "execute_result"
    },
    {
     "data": {
      "image/png": "[encoded data removed]",
      "text/plain": [
       "<Figure size 432x288 with 1 Axes>"
      ]
     },
     "metadata": {
      "needs_background": "light"
     },
     "output_type": "display_data"
    }
   ],
   "source": [
    "profiles_v4.groupby('year_birthday').mean()['total_favorites'].plot(kind='bar')"
   ]
  },
  {
   "cell_type": "markdown",
   "metadata": {},
   "source": [
    "Como intentar agrupar a todos los usuarios con la misma edad es complicado debido a los diversos valores que puede haber, se han asignado a los usuarios a un grupo de edad dependiendo del año de nacimiento."
   ]
  },
  {
   "cell_type": "code",
   "execution_count": 47,
   "metadata": {
    "scrolled": true
   },
   "outputs": [],
   "source": [
    "def edad_range(x):\n",
    "    if x == '?':\n",
    "        return x\n",
    "    else:\n",
    "        edad = 2022 - int(x)\n",
    "        if edad >=0 and edad < 16:\n",
    "            return 'Q1'\n",
    "        elif edad >=16 and edad < 32:\n",
    "            return 'Q2'\n",
    "        elif edad >=32 and edad < 50:\n",
    "            return 'Q3'\n",
    "        else:\n",
    "            return 'Q4'\n",
    "\n",
    "profiles_v4.loc[:,'range'] = profiles_v4.loc[:,'year_birthday'].apply(edad_range)"
   ]
  },
  {
   "cell_type": "code",
   "execution_count": 48,
   "metadata": {},
   "outputs": [
    {
     "data": {
      "text/plain": [
       "<AxesSubplot:xlabel='range'>"
      ]
     },
     "execution_count": 48,
     "metadata": {},
     "output_type": "execute_result"
    },
    {
     "data": {
      "image/png": "[encoded data removed]",
      "text/plain": [
       "<Figure size 432x288 with 1 Axes>"
      ]
     },
     "metadata": {
      "needs_background": "light"
     },
     "output_type": "display_data"
    }
   ],
   "source": [
    "profiles_v4.groupby('range').mean()['total_favorites'].plot(kind='bar')"
   ]
  },
  {
   "cell_type": "code",
   "execution_count": 49,
   "metadata": {},
   "outputs": [
    {
     "data": {
      "text/plain": [
       "<AxesSubplot:xlabel='range'>"
      ]
     },
     "execution_count": 49,
     "metadata": {},
     "output_type": "execute_result"
    },
    {
     "data": {
      "image/png": "[encoded data removed]",
      "text/plain": [
       "<Figure size 432x288 with 1 Axes>"
      ]
     },
     "metadata": {
      "needs_background": "light"
     },
     "output_type": "display_data"
    }
   ],
   "source": [
    "profiles_v4.groupby('range').count()['total_favorites'].plot(kind='bar')"
   ]
  },
  {
   "cell_type": "code",
   "execution_count": 50,
   "metadata": {
    "scrolled": true
   },
   "outputs": [
    {
     "data": {
      "text/plain": [
       "range\n",
       "?     45.557394\n",
       "Q1     0.397567\n",
       "Q2    42.667698\n",
       "Q3    10.619563\n",
       "Q4     0.757778\n",
       "Name: profile, dtype: float64"
      ]
     },
     "execution_count": 50,
     "metadata": {},
     "output_type": "execute_result"
    }
   ],
   "source": [
    "(profiles_v4.groupby('range').count()['profile'] / profiles_v4.shape[0]) * 100"
   ]
  },
  {
   "cell_type": "markdown",
   "metadata": {},
   "source": [
    "Los resultados obtenidos muestran que un 45% de los usuarios pertenecen al grupo ?, por lo que se está perdiendo información, además el grupo Q2 se encuentra presente en el 42% de los usuarios por lo que casi un 89% de los usuarios o están entre 16 y 32 años o no han rellenado correctamente su edad. Aunque la información sobre el número medio de favoritos que aporta cada grupo de edad es similar, se ha decidido eliminar la variable de la edad de un usuario."
   ]
  },
  {
   "cell_type": "code",
   "execution_count": 51,
   "metadata": {},
   "outputs": [
    {
     "data": {
      "text/html": [
       "<div>\n",
       "<style scoped>\n",
       "    .dataframe tbody tr th:only-of-type {\n",
       "        vertical-align: middle;\n",
       "    }\n",
       "\n",
       "    .dataframe tbody tr th {\n",
       "        vertical-align: top;\n",
       "    }\n",
       "\n",
       "    .dataframe thead th {\n",
       "        text-align: right;\n",
       "    }\n",
       "</style>\n",
       "<table border=\"1\" class=\"dataframe\">\n",
       "  <thead>\n",
       "    <tr style=\"text-align: right;\">\n",
       "      <th></th>\n",
       "      <th>profile</th>\n",
       "      <th>gender</th>\n",
       "      <th>list_favorites</th>\n",
       "      <th>total_favorites</th>\n",
       "    </tr>\n",
       "  </thead>\n",
       "  <tbody>\n",
       "    <tr>\n",
       "      <th>0</th>\n",
       "      <td>DesolatePsyche</td>\n",
       "      <td>Male</td>\n",
       "      <td>[33352, 25013, 5530, 33674, 1482, 269, 18245, ...</td>\n",
       "      <td>20</td>\n",
       "    </tr>\n",
       "    <tr>\n",
       "      <th>1</th>\n",
       "      <td>baekbeans</td>\n",
       "      <td>Female</td>\n",
       "      <td>[11061, 31964, 853, 20583, 918, 9253, 34599, 3...</td>\n",
       "      <td>10</td>\n",
       "    </tr>\n",
       "    <tr>\n",
       "      <th>2</th>\n",
       "      <td>skrn</td>\n",
       "      <td>X</td>\n",
       "      <td>[918, 2904, 11741, 17074, 23273, 32281, 9989, ...</td>\n",
       "      <td>9</td>\n",
       "    </tr>\n",
       "    <tr>\n",
       "      <th>3</th>\n",
       "      <td>edgewalker00</td>\n",
       "      <td>Male</td>\n",
       "      <td>[5680, 849, 2904, 3588, 37349]</td>\n",
       "      <td>5</td>\n",
       "    </tr>\n",
       "    <tr>\n",
       "      <th>4</th>\n",
       "      <td>aManOfCulture99</td>\n",
       "      <td>Male</td>\n",
       "      <td>[4181, 7791, 9617, 5680, 2167, 4382, 849, 235,...</td>\n",
       "      <td>10</td>\n",
       "    </tr>\n",
       "  </tbody>\n",
       "</table>\n",
       "</div>"
      ],
      "text/plain": [
       "           profile  gender                                     list_favorites  \\\n",
       "0   DesolatePsyche    Male  [33352, 25013, 5530, 33674, 1482, 269, 18245, ...   \n",
       "1        baekbeans  Female  [11061, 31964, 853, 20583, 918, 9253, 34599, 3...   \n",
       "2             skrn       X  [918, 2904, 11741, 17074, 23273, 32281, 9989, ...   \n",
       "3     edgewalker00    Male                     [5680, 849, 2904, 3588, 37349]   \n",
       "4  aManOfCulture99    Male  [4181, 7791, 9617, 5680, 2167, 4382, 849, 235,...   \n",
       "\n",
       "   total_favorites  \n",
       "0               20  \n",
       "1               10  \n",
       "2                9  \n",
       "3                5  \n",
       "4               10  "
      ]
     },
     "execution_count": 51,
     "metadata": {},
     "output_type": "execute_result"
    }
   ],
   "source": [
    "df_gender = profiles_v4[['profile', 'gender', 'list_favorites', 'total_favorites']]\n",
    "df_gender.head()"
   ]
  },
  {
   "cell_type": "markdown",
   "metadata": {},
   "source": [
    "Para poder seguir analizando la influencia de la variable genre se ha investigado si los distintos tipos de sexos presentan preferencias sobre los géneros de los animes, para ello se ha escogido los diez géneros más comunes que se han obtenido en la sección anterior."
   ]
  },
  {
   "cell_type": "code",
   "execution_count": 52,
   "metadata": {},
   "outputs": [],
   "source": [
    "top_genres = ['Comedy','Action','Fantasy','Adventure','Drama','SciFi',\n",
    "              'Kids','Shounen','Music','Romance']"
   ]
  },
  {
   "cell_type": "code",
   "execution_count": 53,
   "metadata": {},
   "outputs": [],
   "source": [
    "def get_total_genres(x, genre):\n",
    "    total = 0\n",
    "    for favorite in x:\n",
    "        try:\n",
    "            total += animes_v5[animes_v5['uid'] == favorite][genre].sum()\n",
    "        except:\n",
    "            total += 0\n",
    "    return total\n",
    "\n",
    "for genre in top_genres:\n",
    "    df_gender.loc[:, genre] = df_gender.loc[:,'list_favorites'].apply(get_total_genres, args=(genre,))"
   ]
  },
  {
   "cell_type": "code",
   "execution_count": 54,
   "metadata": {},
   "outputs": [
    {
     "data": {
      "text/html": [
       "<div>\n",
       "<style scoped>\n",
       "    .dataframe tbody tr th:only-of-type {\n",
       "        vertical-align: middle;\n",
       "    }\n",
       "\n",
       "    .dataframe tbody tr th {\n",
       "        vertical-align: top;\n",
       "    }\n",
       "\n",
       "    .dataframe thead th {\n",
       "        text-align: right;\n",
       "    }\n",
       "</style>\n",
       "<table border=\"1\" class=\"dataframe\">\n",
       "  <thead>\n",
       "    <tr style=\"text-align: right;\">\n",
       "      <th></th>\n",
       "      <th>profile</th>\n",
       "      <th>gender</th>\n",
       "      <th>list_favorites</th>\n",
       "      <th>total_favorites</th>\n",
       "      <th>Comedy</th>\n",
       "      <th>Action</th>\n",
       "      <th>Fantasy</th>\n",
       "      <th>Adventure</th>\n",
       "      <th>Drama</th>\n",
       "      <th>SciFi</th>\n",
       "      <th>Kids</th>\n",
       "      <th>Shounen</th>\n",
       "      <th>Music</th>\n",
       "      <th>Romance</th>\n",
       "    </tr>\n",
       "  </thead>\n",
       "  <tbody>\n",
       "    <tr>\n",
       "      <th>0</th>\n",
       "      <td>DesolatePsyche</td>\n",
       "      <td>Male</td>\n",
       "      <td>[33352, 25013, 5530, 33674, 1482, 269, 18245, ...</td>\n",
       "      <td>20</td>\n",
       "      <td>9</td>\n",
       "      <td>8</td>\n",
       "      <td>5</td>\n",
       "      <td>8</td>\n",
       "      <td>9</td>\n",
       "      <td>2</td>\n",
       "      <td>0</td>\n",
       "      <td>6</td>\n",
       "      <td>2</td>\n",
       "      <td>9</td>\n",
       "    </tr>\n",
       "    <tr>\n",
       "      <th>1</th>\n",
       "      <td>baekbeans</td>\n",
       "      <td>Female</td>\n",
       "      <td>[11061, 31964, 853, 20583, 918, 9253, 34599, 3...</td>\n",
       "      <td>10</td>\n",
       "      <td>6</td>\n",
       "      <td>5</td>\n",
       "      <td>3</td>\n",
       "      <td>2</td>\n",
       "      <td>2</td>\n",
       "      <td>4</td>\n",
       "      <td>0</td>\n",
       "      <td>5</td>\n",
       "      <td>0</td>\n",
       "      <td>2</td>\n",
       "    </tr>\n",
       "    <tr>\n",
       "      <th>2</th>\n",
       "      <td>skrn</td>\n",
       "      <td>X</td>\n",
       "      <td>[918, 2904, 11741, 17074, 23273, 32281, 9989, ...</td>\n",
       "      <td>9</td>\n",
       "      <td>3</td>\n",
       "      <td>3</td>\n",
       "      <td>3</td>\n",
       "      <td>1</td>\n",
       "      <td>5</td>\n",
       "      <td>3</td>\n",
       "      <td>0</td>\n",
       "      <td>2</td>\n",
       "      <td>1</td>\n",
       "      <td>4</td>\n",
       "    </tr>\n",
       "    <tr>\n",
       "      <th>3</th>\n",
       "      <td>edgewalker00</td>\n",
       "      <td>Male</td>\n",
       "      <td>[5680, 849, 2904, 3588, 37349]</td>\n",
       "      <td>5</td>\n",
       "      <td>3</td>\n",
       "      <td>3</td>\n",
       "      <td>2</td>\n",
       "      <td>1</td>\n",
       "      <td>1</td>\n",
       "      <td>2</td>\n",
       "      <td>0</td>\n",
       "      <td>1</td>\n",
       "      <td>1</td>\n",
       "      <td>0</td>\n",
       "    </tr>\n",
       "    <tr>\n",
       "      <th>4</th>\n",
       "      <td>aManOfCulture99</td>\n",
       "      <td>Male</td>\n",
       "      <td>[4181, 7791, 9617, 5680, 2167, 4382, 849, 235,...</td>\n",
       "      <td>10</td>\n",
       "      <td>8</td>\n",
       "      <td>0</td>\n",
       "      <td>0</td>\n",
       "      <td>1</td>\n",
       "      <td>4</td>\n",
       "      <td>2</td>\n",
       "      <td>0</td>\n",
       "      <td>1</td>\n",
       "      <td>3</td>\n",
       "      <td>3</td>\n",
       "    </tr>\n",
       "  </tbody>\n",
       "</table>\n",
       "</div>"
      ],
      "text/plain": [
       "           profile  gender                                     list_favorites  \\\n",
       "0   DesolatePsyche    Male  [33352, 25013, 5530, 33674, 1482, 269, 18245, ...   \n",
       "1        baekbeans  Female  [11061, 31964, 853, 20583, 918, 9253, 34599, 3...   \n",
       "2             skrn       X  [918, 2904, 11741, 17074, 23273, 32281, 9989, ...   \n",
       "3     edgewalker00    Male                     [5680, 849, 2904, 3588, 37349]   \n",
       "4  aManOfCulture99    Male  [4181, 7791, 9617, 5680, 2167, 4382, 849, 235,...   \n",
       "\n",
       "   total_favorites  Comedy  Action  Fantasy  Adventure  Drama  SciFi  Kids  \\\n",
       "0               20       9       8        5          8      9      2     0   \n",
       "1               10       6       5        3          2      2      4     0   \n",
       "2                9       3       3        3          1      5      3     0   \n",
       "3                5       3       3        2          1      1      2     0   \n",
       "4               10       8       0        0          1      4      2     0   \n",
       "\n",
       "   Shounen  Music  Romance  \n",
       "0        6      2        9  \n",
       "1        5      0        2  \n",
       "2        2      1        4  \n",
       "3        1      1        0  \n",
       "4        1      3        3  "
      ]
     },
     "execution_count": 54,
     "metadata": {},
     "output_type": "execute_result"
    }
   ],
   "source": [
    "df_gender.head()"
   ]
  },
  {
   "cell_type": "code",
   "execution_count": 55,
   "metadata": {},
   "outputs": [
    {
     "data": {
      "text/plain": [
       "<AxesSubplot:xlabel='gender'>"
      ]
     },
     "execution_count": 55,
     "metadata": {},
     "output_type": "execute_result"
    },
    {
     "data": {
      "image/png": "[encoded data removed]",
      "text/plain": [
       "<Figure size 1008x504 with 1 Axes>"
      ]
     },
     "metadata": {
      "needs_background": "light"
     },
     "output_type": "display_data"
    }
   ],
   "source": [
    "df_gender.groupby('gender').sum()[top_genres].plot(kind='bar', figsize=(14,7))"
   ]
  },
  {
   "cell_type": "markdown",
   "metadata": {},
   "source": [
    "El gráfico ha sido redimensionado debido a que como se tiene más información para el género Male consecuentemente los resultados son más altos para éstos."
   ]
  },
  {
   "cell_type": "code",
   "execution_count": 56,
   "metadata": {},
   "outputs": [
    {
     "data": {
      "text/html": [
       "<div>\n",
       "<style scoped>\n",
       "    .dataframe tbody tr th:only-of-type {\n",
       "        vertical-align: middle;\n",
       "    }\n",
       "\n",
       "    .dataframe tbody tr th {\n",
       "        vertical-align: top;\n",
       "    }\n",
       "\n",
       "    .dataframe thead th {\n",
       "        text-align: right;\n",
       "    }\n",
       "</style>\n",
       "<table border=\"1\" class=\"dataframe\">\n",
       "  <thead>\n",
       "    <tr style=\"text-align: right;\">\n",
       "      <th></th>\n",
       "      <th>Comedy</th>\n",
       "      <th>Action</th>\n",
       "      <th>Fantasy</th>\n",
       "      <th>Adventure</th>\n",
       "      <th>Drama</th>\n",
       "      <th>SciFi</th>\n",
       "      <th>Kids</th>\n",
       "      <th>Shounen</th>\n",
       "      <th>Music</th>\n",
       "      <th>Romance</th>\n",
       "    </tr>\n",
       "    <tr>\n",
       "      <th>gender</th>\n",
       "      <th></th>\n",
       "      <th></th>\n",
       "      <th></th>\n",
       "      <th></th>\n",
       "      <th></th>\n",
       "      <th></th>\n",
       "      <th></th>\n",
       "      <th></th>\n",
       "      <th></th>\n",
       "      <th></th>\n",
       "    </tr>\n",
       "  </thead>\n",
       "  <tbody>\n",
       "    <tr>\n",
       "      <th>Female</th>\n",
       "      <td>23893</td>\n",
       "      <td>21105</td>\n",
       "      <td>12310</td>\n",
       "      <td>12161</td>\n",
       "      <td>20266</td>\n",
       "      <td>8100</td>\n",
       "      <td>218</td>\n",
       "      <td>15134</td>\n",
       "      <td>1850</td>\n",
       "      <td>13127</td>\n",
       "    </tr>\n",
       "    <tr>\n",
       "      <th>Male</th>\n",
       "      <td>52926</td>\n",
       "      <td>53919</td>\n",
       "      <td>27623</td>\n",
       "      <td>30333</td>\n",
       "      <td>49755</td>\n",
       "      <td>31148</td>\n",
       "      <td>362</td>\n",
       "      <td>33438</td>\n",
       "      <td>3819</td>\n",
       "      <td>30465</td>\n",
       "    </tr>\n",
       "    <tr>\n",
       "      <th>Non-Binary</th>\n",
       "      <td>1129</td>\n",
       "      <td>919</td>\n",
       "      <td>556</td>\n",
       "      <td>570</td>\n",
       "      <td>957</td>\n",
       "      <td>525</td>\n",
       "      <td>14</td>\n",
       "      <td>557</td>\n",
       "      <td>109</td>\n",
       "      <td>498</td>\n",
       "    </tr>\n",
       "    <tr>\n",
       "      <th>X</th>\n",
       "      <td>23099</td>\n",
       "      <td>22376</td>\n",
       "      <td>12502</td>\n",
       "      <td>12757</td>\n",
       "      <td>20619</td>\n",
       "      <td>12087</td>\n",
       "      <td>226</td>\n",
       "      <td>14119</td>\n",
       "      <td>1791</td>\n",
       "      <td>12933</td>\n",
       "    </tr>\n",
       "  </tbody>\n",
       "</table>\n",
       "</div>"
      ],
      "text/plain": [
       "            Comedy  Action  Fantasy  Adventure  Drama  SciFi  Kids  Shounen  \\\n",
       "gender                                                                        \n",
       "Female       23893   21105    12310      12161  20266   8100   218    15134   \n",
       "Male         52926   53919    27623      30333  49755  31148   362    33438   \n",
       "Non-Binary    1129     919      556        570    957    525    14      557   \n",
       "X            23099   22376    12502      12757  20619  12087   226    14119   \n",
       "\n",
       "            Music  Romance  \n",
       "gender                      \n",
       "Female       1850    13127  \n",
       "Male         3819    30465  \n",
       "Non-Binary    109      498  \n",
       "X            1791    12933  "
      ]
     },
     "execution_count": 56,
     "metadata": {},
     "output_type": "execute_result"
    }
   ],
   "source": [
    "agrup = df_gender.groupby('gender').sum()[top_genres]\n",
    "agrup"
   ]
  },
  {
   "cell_type": "code",
   "execution_count": 57,
   "metadata": {},
   "outputs": [],
   "source": [
    "conteo = df_gender.groupby('gender').count()['profile']"
   ]
  },
  {
   "cell_type": "code",
   "execution_count": 58,
   "metadata": {},
   "outputs": [
    {
     "data": {
      "text/html": [
       "<div>\n",
       "<style scoped>\n",
       "    .dataframe tbody tr th:only-of-type {\n",
       "        vertical-align: middle;\n",
       "    }\n",
       "\n",
       "    .dataframe tbody tr th {\n",
       "        vertical-align: top;\n",
       "    }\n",
       "\n",
       "    .dataframe thead th {\n",
       "        text-align: right;\n",
       "    }\n",
       "</style>\n",
       "<table border=\"1\" class=\"dataframe\">\n",
       "  <thead>\n",
       "    <tr style=\"text-align: right;\">\n",
       "      <th></th>\n",
       "      <th>Comedy</th>\n",
       "      <th>Action</th>\n",
       "      <th>Fantasy</th>\n",
       "      <th>Adventure</th>\n",
       "      <th>Drama</th>\n",
       "      <th>SciFi</th>\n",
       "      <th>Kids</th>\n",
       "      <th>Shounen</th>\n",
       "      <th>Music</th>\n",
       "      <th>Romance</th>\n",
       "    </tr>\n",
       "    <tr>\n",
       "      <th>gender</th>\n",
       "      <th></th>\n",
       "      <th></th>\n",
       "      <th></th>\n",
       "      <th></th>\n",
       "      <th></th>\n",
       "      <th></th>\n",
       "      <th></th>\n",
       "      <th></th>\n",
       "      <th></th>\n",
       "      <th></th>\n",
       "    </tr>\n",
       "  </thead>\n",
       "  <tbody>\n",
       "    <tr>\n",
       "      <th>Female</th>\n",
       "      <td>2.842713</td>\n",
       "      <td>2.511005</td>\n",
       "      <td>1.464604</td>\n",
       "      <td>1.446877</td>\n",
       "      <td>2.411184</td>\n",
       "      <td>0.963712</td>\n",
       "      <td>0.025937</td>\n",
       "      <td>1.800595</td>\n",
       "      <td>0.220107</td>\n",
       "      <td>1.561808</td>\n",
       "    </tr>\n",
       "    <tr>\n",
       "      <th>Male</th>\n",
       "      <td>2.787780</td>\n",
       "      <td>2.840084</td>\n",
       "      <td>1.454991</td>\n",
       "      <td>1.597735</td>\n",
       "      <td>2.620753</td>\n",
       "      <td>1.640664</td>\n",
       "      <td>0.019068</td>\n",
       "      <td>1.761285</td>\n",
       "      <td>0.201159</td>\n",
       "      <td>1.604688</td>\n",
       "    </tr>\n",
       "    <tr>\n",
       "      <th>Non-Binary</th>\n",
       "      <td>3.136111</td>\n",
       "      <td>2.552778</td>\n",
       "      <td>1.544444</td>\n",
       "      <td>1.583333</td>\n",
       "      <td>2.658333</td>\n",
       "      <td>1.458333</td>\n",
       "      <td>0.038889</td>\n",
       "      <td>1.547222</td>\n",
       "      <td>0.302778</td>\n",
       "      <td>1.383333</td>\n",
       "    </tr>\n",
       "    <tr>\n",
       "      <th>X</th>\n",
       "      <td>2.374486</td>\n",
       "      <td>2.300164</td>\n",
       "      <td>1.285156</td>\n",
       "      <td>1.311369</td>\n",
       "      <td>2.119552</td>\n",
       "      <td>1.242496</td>\n",
       "      <td>0.023232</td>\n",
       "      <td>1.451377</td>\n",
       "      <td>0.184108</td>\n",
       "      <td>1.329461</td>\n",
       "    </tr>\n",
       "  </tbody>\n",
       "</table>\n",
       "</div>"
      ],
      "text/plain": [
       "              Comedy    Action   Fantasy  Adventure     Drama     SciFi  \\\n",
       "gender                                                                    \n",
       "Female      2.842713  2.511005  1.464604   1.446877  2.411184  0.963712   \n",
       "Male        2.787780  2.840084  1.454991   1.597735  2.620753  1.640664   \n",
       "Non-Binary  3.136111  2.552778  1.544444   1.583333  2.658333  1.458333   \n",
       "X           2.374486  2.300164  1.285156   1.311369  2.119552  1.242496   \n",
       "\n",
       "                Kids   Shounen     Music   Romance  \n",
       "gender                                              \n",
       "Female      0.025937  1.800595  0.220107  1.561808  \n",
       "Male        0.019068  1.761285  0.201159  1.604688  \n",
       "Non-Binary  0.038889  1.547222  0.302778  1.383333  \n",
       "X           0.023232  1.451377  0.184108  1.329461  "
      ]
     },
     "execution_count": 58,
     "metadata": {},
     "output_type": "execute_result"
    }
   ],
   "source": [
    "agrup.iloc[0] = agrup.iloc[0] / conteo['Female']\n",
    "agrup.iloc[1] = agrup.iloc[1] / conteo['Male']\n",
    "agrup.iloc[2] = agrup.iloc[2] / conteo['Non-Binary']\n",
    "agrup.iloc[3] = agrup.iloc[3] / conteo['X']\n",
    "agrup"
   ]
  },
  {
   "cell_type": "code",
   "execution_count": 59,
   "metadata": {},
   "outputs": [
    {
     "data": {
      "text/plain": [
       "<AxesSubplot:xlabel='gender'>"
      ]
     },
     "execution_count": 59,
     "metadata": {},
     "output_type": "execute_result"
    },
    {
     "data": {
      "image/png": "[encoded data removed]",
      "text/plain": [
       "<Figure size 1008x504 with 1 Axes>"
      ]
     },
     "metadata": {
      "needs_background": "light"
     },
     "output_type": "display_data"
    }
   ],
   "source": [
    "agrup.plot(kind='bar', figsize=(14,7))"
   ]
  },
  {
   "cell_type": "markdown",
   "metadata": {},
   "source": [
    "Se observa gráficamente que el género que predomina en las mujeres es el de Comedia, sin embargo, en los hombres los géneros más influyentes son primero la acción y segundo la comedia. Debido a los resultados obtenidos se ha decidido tener en cuenta la información de la variable gender para la construcción del grafo."
   ]
  },
  {
   "cell_type": "code",
   "execution_count": 60,
   "metadata": {},
   "outputs": [
    {
     "data": {
      "text/html": [
       "<div>\n",
       "<style scoped>\n",
       "    .dataframe tbody tr th:only-of-type {\n",
       "        vertical-align: middle;\n",
       "    }\n",
       "\n",
       "    .dataframe tbody tr th {\n",
       "        vertical-align: top;\n",
       "    }\n",
       "\n",
       "    .dataframe thead th {\n",
       "        text-align: right;\n",
       "    }\n",
       "</style>\n",
       "<table border=\"1\" class=\"dataframe\">\n",
       "  <thead>\n",
       "    <tr style=\"text-align: right;\">\n",
       "      <th></th>\n",
       "      <th>profile</th>\n",
       "      <th>gender</th>\n",
       "      <th>list_favorites</th>\n",
       "      <th>link</th>\n",
       "    </tr>\n",
       "  </thead>\n",
       "  <tbody>\n",
       "    <tr>\n",
       "      <th>0</th>\n",
       "      <td>DesolatePsyche</td>\n",
       "      <td>Male</td>\n",
       "      <td>[33352, 25013, 5530, 33674, 1482, 269, 18245, ...</td>\n",
       "      <td>https://myanimelist.net/profile/DesolatePsyche</td>\n",
       "    </tr>\n",
       "    <tr>\n",
       "      <th>1</th>\n",
       "      <td>baekbeans</td>\n",
       "      <td>Female</td>\n",
       "      <td>[11061, 31964, 853, 20583, 918, 9253, 34599, 3...</td>\n",
       "      <td>https://myanimelist.net/profile/baekbeans</td>\n",
       "    </tr>\n",
       "    <tr>\n",
       "      <th>2</th>\n",
       "      <td>skrn</td>\n",
       "      <td>X</td>\n",
       "      <td>[918, 2904, 11741, 17074, 23273, 32281, 9989, ...</td>\n",
       "      <td>https://myanimelist.net/profile/skrn</td>\n",
       "    </tr>\n",
       "    <tr>\n",
       "      <th>3</th>\n",
       "      <td>edgewalker00</td>\n",
       "      <td>Male</td>\n",
       "      <td>[5680, 849, 2904, 3588, 37349]</td>\n",
       "      <td>https://myanimelist.net/profile/edgewalker00</td>\n",
       "    </tr>\n",
       "    <tr>\n",
       "      <th>4</th>\n",
       "      <td>aManOfCulture99</td>\n",
       "      <td>Male</td>\n",
       "      <td>[4181, 7791, 9617, 5680, 2167, 4382, 849, 235,...</td>\n",
       "      <td>https://myanimelist.net/profile/aManOfCulture99</td>\n",
       "    </tr>\n",
       "  </tbody>\n",
       "</table>\n",
       "</div>"
      ],
      "text/plain": [
       "           profile  gender                                     list_favorites  \\\n",
       "0   DesolatePsyche    Male  [33352, 25013, 5530, 33674, 1482, 269, 18245, ...   \n",
       "1        baekbeans  Female  [11061, 31964, 853, 20583, 918, 9253, 34599, 3...   \n",
       "2             skrn       X  [918, 2904, 11741, 17074, 23273, 32281, 9989, ...   \n",
       "3     edgewalker00    Male                     [5680, 849, 2904, 3588, 37349]   \n",
       "4  aManOfCulture99    Male  [4181, 7791, 9617, 5680, 2167, 4382, 849, 235,...   \n",
       "\n",
       "                                              link  \n",
       "0   https://myanimelist.net/profile/DesolatePsyche  \n",
       "1        https://myanimelist.net/profile/baekbeans  \n",
       "2             https://myanimelist.net/profile/skrn  \n",
       "3     https://myanimelist.net/profile/edgewalker00  \n",
       "4  https://myanimelist.net/profile/aManOfCulture99  "
      ]
     },
     "execution_count": 60,
     "metadata": {},
     "output_type": "execute_result"
    }
   ],
   "source": [
    "columns = ['profile', 'gender', 'list_favorites', 'link']\n",
    "profiles_v5 = profiles_v4[columns]\n",
    "profiles_v5.head()"
   ]
  },
  {
   "cell_type": "markdown",
   "metadata": {},
   "source": [
    "#### Output DF Profiles <a class=\"anchor\" id=\"section_2_2\"></a>"
   ]
  },
  {
   "cell_type": "code",
   "execution_count": 61,
   "metadata": {},
   "outputs": [
    {
     "data": {
      "text/plain": [
       "Index(['profile', 'gender', 'list_favorites', 'link'], dtype='object')"
      ]
     },
     "execution_count": 61,
     "metadata": {},
     "output_type": "execute_result"
    }
   ],
   "source": [
    "profiles_v5.columns"
   ]
  },
  {
   "cell_type": "code",
   "execution_count": 62,
   "metadata": {},
   "outputs": [
    {
     "data": {
      "text/plain": [
       "(37478, 4)"
      ]
     },
     "execution_count": 62,
     "metadata": {},
     "output_type": "execute_result"
    }
   ],
   "source": [
    "profiles_v5.shape"
   ]
  },
  {
   "cell_type": "code",
   "execution_count": 63,
   "metadata": {},
   "outputs": [],
   "source": [
    "profiles_v5.to_csv(output_folder + 'profiles.csv', index=False)"
   ]
  },
  {
   "cell_type": "markdown",
   "metadata": {
    "id": "dGlw7FaW9-C3"
   },
   "source": [
    "### DataFrame de Reviews <a class=\"anchor\" id=\"chapter3\"></a>"
   ]
  },
  {
   "cell_type": "markdown",
   "metadata": {},
   "source": [
    "#### Input DF Reviews <a class=\"anchor\" id=\"section_3_1\"></a>"
   ]
  },
  {
   "cell_type": "code",
   "execution_count": 64,
   "metadata": {},
   "outputs": [
    {
     "data": {
      "text/html": [
       "<div>\n",
       "<style scoped>\n",
       "    .dataframe tbody tr th:only-of-type {\n",
       "        vertical-align: middle;\n",
       "    }\n",
       "\n",
       "    .dataframe tbody tr th {\n",
       "        vertical-align: top;\n",
       "    }\n",
       "\n",
       "    .dataframe thead th {\n",
       "        text-align: right;\n",
       "    }\n",
       "</style>\n",
       "<table border=\"1\" class=\"dataframe\">\n",
       "  <thead>\n",
       "    <tr style=\"text-align: right;\">\n",
       "      <th></th>\n",
       "      <th>uid</th>\n",
       "      <th>profile</th>\n",
       "      <th>anime_uid</th>\n",
       "      <th>text</th>\n",
       "      <th>score</th>\n",
       "      <th>scores</th>\n",
       "      <th>link</th>\n",
       "    </tr>\n",
       "  </thead>\n",
       "  <tbody>\n",
       "    <tr>\n",
       "      <th>0</th>\n",
       "      <td>255938</td>\n",
       "      <td>DesolatePsyche</td>\n",
       "      <td>34096</td>\n",
       "      <td>\\n           \\n         \\n           \\n       ...</td>\n",
       "      <td>8</td>\n",
       "      <td>{'Overall': '8', 'Story': '8', 'Animation': '8...</td>\n",
       "      <td>https://myanimelist.net/reviews.php?id=255938</td>\n",
       "    </tr>\n",
       "    <tr>\n",
       "      <th>1</th>\n",
       "      <td>259117</td>\n",
       "      <td>baekbeans</td>\n",
       "      <td>34599</td>\n",
       "      <td>\\n           \\n         \\n           \\n       ...</td>\n",
       "      <td>10</td>\n",
       "      <td>{'Overall': '10', 'Story': '10', 'Animation': ...</td>\n",
       "      <td>https://myanimelist.net/reviews.php?id=259117</td>\n",
       "    </tr>\n",
       "    <tr>\n",
       "      <th>2</th>\n",
       "      <td>253664</td>\n",
       "      <td>skrn</td>\n",
       "      <td>28891</td>\n",
       "      <td>\\n           \\n         \\n           \\n       ...</td>\n",
       "      <td>7</td>\n",
       "      <td>{'Overall': '7', 'Story': '7', 'Animation': '9...</td>\n",
       "      <td>https://myanimelist.net/reviews.php?id=253664</td>\n",
       "    </tr>\n",
       "    <tr>\n",
       "      <th>3</th>\n",
       "      <td>8254</td>\n",
       "      <td>edgewalker00</td>\n",
       "      <td>2904</td>\n",
       "      <td>\\n           \\n         \\n           \\n       ...</td>\n",
       "      <td>9</td>\n",
       "      <td>{'Overall': '9', 'Story': '9', 'Animation': '9...</td>\n",
       "      <td>https://myanimelist.net/reviews.php?id=8254</td>\n",
       "    </tr>\n",
       "    <tr>\n",
       "      <th>4</th>\n",
       "      <td>291149</td>\n",
       "      <td>aManOfCulture99</td>\n",
       "      <td>4181</td>\n",
       "      <td>\\n           \\n         \\n           \\n       ...</td>\n",
       "      <td>10</td>\n",
       "      <td>{'Overall': '10', 'Story': '10', 'Animation': ...</td>\n",
       "      <td>https://myanimelist.net/reviews.php?id=291149</td>\n",
       "    </tr>\n",
       "  </tbody>\n",
       "</table>\n",
       "</div>"
      ],
      "text/plain": [
       "      uid          profile  anime_uid  \\\n",
       "0  255938   DesolatePsyche      34096   \n",
       "1  259117        baekbeans      34599   \n",
       "2  253664             skrn      28891   \n",
       "3    8254     edgewalker00       2904   \n",
       "4  291149  aManOfCulture99       4181   \n",
       "\n",
       "                                                text  score  \\\n",
       "0  \\n           \\n         \\n           \\n       ...      8   \n",
       "1  \\n           \\n         \\n           \\n       ...     10   \n",
       "2  \\n           \\n         \\n           \\n       ...      7   \n",
       "3  \\n           \\n         \\n           \\n       ...      9   \n",
       "4  \\n           \\n         \\n           \\n       ...     10   \n",
       "\n",
       "                                              scores  \\\n",
       "0  {'Overall': '8', 'Story': '8', 'Animation': '8...   \n",
       "1  {'Overall': '10', 'Story': '10', 'Animation': ...   \n",
       "2  {'Overall': '7', 'Story': '7', 'Animation': '9...   \n",
       "3  {'Overall': '9', 'Story': '9', 'Animation': '9...   \n",
       "4  {'Overall': '10', 'Story': '10', 'Animation': ...   \n",
       "\n",
       "                                            link  \n",
       "0  https://myanimelist.net/reviews.php?id=255938  \n",
       "1  https://myanimelist.net/reviews.php?id=259117  \n",
       "2  https://myanimelist.net/reviews.php?id=253664  \n",
       "3    https://myanimelist.net/reviews.php?id=8254  \n",
       "4  https://myanimelist.net/reviews.php?id=291149  "
      ]
     },
     "execution_count": 64,
     "metadata": {},
     "output_type": "execute_result"
    }
   ],
   "source": [
    "reviews.head()"
   ]
  },
  {
   "cell_type": "code",
   "execution_count": 65,
   "metadata": {},
   "outputs": [
    {
     "name": "stdout",
     "output_type": "stream",
     "text": [
      "Hay 192112 reseñas de usuarios\n"
     ]
    },
    {
     "data": {
      "text/plain": [
       "uid           int64\n",
       "profile      object\n",
       "anime_uid     int64\n",
       "text         object\n",
       "score         int64\n",
       "scores       object\n",
       "link         object\n",
       "dtype: object"
      ]
     },
     "execution_count": 65,
     "metadata": {},
     "output_type": "execute_result"
    }
   ],
   "source": [
    "print('Hay {} reseñas de usuarios'.format(reviews.shape[0]))\n",
    "reviews.dtypes"
   ]
  },
  {
   "cell_type": "markdown",
   "metadata": {},
   "source": [
    "El dataset contiene información sobre las reviews que han hecho los usuarios a algún anime. "
   ]
  },
  {
   "cell_type": "code",
   "execution_count": 66,
   "metadata": {},
   "outputs": [
    {
     "data": {
      "text/plain": [
       "uid          False\n",
       "profile      False\n",
       "anime_uid    False\n",
       "text         False\n",
       "score        False\n",
       "scores       False\n",
       "link         False\n",
       "dtype: bool"
      ]
     },
     "execution_count": 66,
     "metadata": {},
     "output_type": "execute_result"
    }
   ],
   "source": [
    "reviews.isnull().any()"
   ]
  },
  {
   "cell_type": "code",
   "execution_count": 67,
   "metadata": {},
   "outputs": [
    {
     "name": "stdout",
     "output_type": "stream",
     "text": [
      "Hay 130519 reseñas distintas de usuarios\n"
     ]
    }
   ],
   "source": [
    "reviews_v2 = reviews.drop_duplicates(keep='first', ignore_index=True)\n",
    "print('Hay {} reseñas distintas de usuarios'.format(reviews_v2.shape[0]))"
   ]
  },
  {
   "cell_type": "markdown",
   "metadata": {},
   "source": [
    "Se ha analizado el contenido de la columna scores ya que a priori los valores parecen tener el formato de un fichero json, por lo que se ha forzado a que tengan ese formato."
   ]
  },
  {
   "cell_type": "code",
   "execution_count": 68,
   "metadata": {},
   "outputs": [],
   "source": [
    "reviews_v2.loc[:,'dict_scores'] = reviews_v2.loc[:, 'scores'].apply(\n",
    "    lambda x: json.loads(x.replace(\"'\", '\"')))"
   ]
  },
  {
   "cell_type": "code",
   "execution_count": 69,
   "metadata": {},
   "outputs": [
    {
     "name": "stdout",
     "output_type": "stream",
     "text": [
      "dict_keys(['Overall', 'Story', 'Animation', 'Sound', 'Character', 'Enjoyment'])\n"
     ]
    }
   ],
   "source": [
    "base = reviews_v2['dict_scores'].values[0]\n",
    "print(base.keys())"
   ]
  },
  {
   "cell_type": "markdown",
   "metadata": {},
   "source": [
    "Observando los resultados existen seis tipos de campos donde se han realizado puntuaciones, por lo que es una información importante para poder ser utilizada. Para poder usarla de un modo más sencillo se ha decidido pasar los tipos de campo a columnas propias, ya que su accesibilidad sería más práctica a la hora de utilizarlo en Neo4j."
   ]
  },
  {
   "cell_type": "code",
   "execution_count": 70,
   "metadata": {},
   "outputs": [],
   "source": [
    "for key in base.keys():\n",
    "    reviews_v2.loc[:, key] = reviews_v2.loc[:,'dict_scores'].apply(lambda x: int(x[key]))"
   ]
  },
  {
   "cell_type": "code",
   "execution_count": 71,
   "metadata": {},
   "outputs": [
    {
     "data": {
      "text/plain": [
       "Index(['uid', 'profile', 'anime_uid', 'text', 'score', 'scores', 'link',\n",
       "       'dict_scores', 'Overall', 'Story', 'Animation', 'Sound', 'Character',\n",
       "       'Enjoyment'],\n",
       "      dtype='object')"
      ]
     },
     "execution_count": 71,
     "metadata": {},
     "output_type": "execute_result"
    }
   ],
   "source": [
    "reviews_v2.columns"
   ]
  },
  {
   "cell_type": "code",
   "execution_count": 72,
   "metadata": {},
   "outputs": [
    {
     "data": {
      "text/html": [
       "<div>\n",
       "<style scoped>\n",
       "    .dataframe tbody tr th:only-of-type {\n",
       "        vertical-align: middle;\n",
       "    }\n",
       "\n",
       "    .dataframe tbody tr th {\n",
       "        vertical-align: top;\n",
       "    }\n",
       "\n",
       "    .dataframe thead th {\n",
       "        text-align: right;\n",
       "    }\n",
       "</style>\n",
       "<table border=\"1\" class=\"dataframe\">\n",
       "  <thead>\n",
       "    <tr style=\"text-align: right;\">\n",
       "      <th></th>\n",
       "      <th>uid</th>\n",
       "      <th>profile</th>\n",
       "      <th>anime_uid</th>\n",
       "      <th>text</th>\n",
       "      <th>score</th>\n",
       "      <th>scores</th>\n",
       "      <th>link</th>\n",
       "      <th>dict_scores</th>\n",
       "      <th>Overall</th>\n",
       "      <th>Story</th>\n",
       "      <th>Animation</th>\n",
       "      <th>Sound</th>\n",
       "      <th>Character</th>\n",
       "      <th>Enjoyment</th>\n",
       "    </tr>\n",
       "  </thead>\n",
       "  <tbody>\n",
       "    <tr>\n",
       "      <th>0</th>\n",
       "      <td>255938</td>\n",
       "      <td>DesolatePsyche</td>\n",
       "      <td>34096</td>\n",
       "      <td>\\n           \\n         \\n           \\n       ...</td>\n",
       "      <td>8</td>\n",
       "      <td>{'Overall': '8', 'Story': '8', 'Animation': '8...</td>\n",
       "      <td>https://myanimelist.net/reviews.php?id=255938</td>\n",
       "      <td>{'Overall': '8', 'Story': '8', 'Animation': '8...</td>\n",
       "      <td>8</td>\n",
       "      <td>8</td>\n",
       "      <td>8</td>\n",
       "      <td>10</td>\n",
       "      <td>9</td>\n",
       "      <td>8</td>\n",
       "    </tr>\n",
       "    <tr>\n",
       "      <th>1</th>\n",
       "      <td>259117</td>\n",
       "      <td>baekbeans</td>\n",
       "      <td>34599</td>\n",
       "      <td>\\n           \\n         \\n           \\n       ...</td>\n",
       "      <td>10</td>\n",
       "      <td>{'Overall': '10', 'Story': '10', 'Animation': ...</td>\n",
       "      <td>https://myanimelist.net/reviews.php?id=259117</td>\n",
       "      <td>{'Overall': '10', 'Story': '10', 'Animation': ...</td>\n",
       "      <td>10</td>\n",
       "      <td>10</td>\n",
       "      <td>10</td>\n",
       "      <td>10</td>\n",
       "      <td>10</td>\n",
       "      <td>10</td>\n",
       "    </tr>\n",
       "    <tr>\n",
       "      <th>2</th>\n",
       "      <td>253664</td>\n",
       "      <td>skrn</td>\n",
       "      <td>28891</td>\n",
       "      <td>\\n           \\n         \\n           \\n       ...</td>\n",
       "      <td>7</td>\n",
       "      <td>{'Overall': '7', 'Story': '7', 'Animation': '9...</td>\n",
       "      <td>https://myanimelist.net/reviews.php?id=253664</td>\n",
       "      <td>{'Overall': '7', 'Story': '7', 'Animation': '9...</td>\n",
       "      <td>7</td>\n",
       "      <td>7</td>\n",
       "      <td>9</td>\n",
       "      <td>8</td>\n",
       "      <td>8</td>\n",
       "      <td>8</td>\n",
       "    </tr>\n",
       "    <tr>\n",
       "      <th>3</th>\n",
       "      <td>8254</td>\n",
       "      <td>edgewalker00</td>\n",
       "      <td>2904</td>\n",
       "      <td>\\n           \\n         \\n           \\n       ...</td>\n",
       "      <td>9</td>\n",
       "      <td>{'Overall': '9', 'Story': '9', 'Animation': '9...</td>\n",
       "      <td>https://myanimelist.net/reviews.php?id=8254</td>\n",
       "      <td>{'Overall': '9', 'Story': '9', 'Animation': '9...</td>\n",
       "      <td>9</td>\n",
       "      <td>9</td>\n",
       "      <td>9</td>\n",
       "      <td>10</td>\n",
       "      <td>10</td>\n",
       "      <td>9</td>\n",
       "    </tr>\n",
       "    <tr>\n",
       "      <th>4</th>\n",
       "      <td>291149</td>\n",
       "      <td>aManOfCulture99</td>\n",
       "      <td>4181</td>\n",
       "      <td>\\n           \\n         \\n           \\n       ...</td>\n",
       "      <td>10</td>\n",
       "      <td>{'Overall': '10', 'Story': '10', 'Animation': ...</td>\n",
       "      <td>https://myanimelist.net/reviews.php?id=291149</td>\n",
       "      <td>{'Overall': '10', 'Story': '10', 'Animation': ...</td>\n",
       "      <td>10</td>\n",
       "      <td>10</td>\n",
       "      <td>8</td>\n",
       "      <td>9</td>\n",
       "      <td>10</td>\n",
       "      <td>10</td>\n",
       "    </tr>\n",
       "  </tbody>\n",
       "</table>\n",
       "</div>"
      ],
      "text/plain": [
       "      uid          profile  anime_uid  \\\n",
       "0  255938   DesolatePsyche      34096   \n",
       "1  259117        baekbeans      34599   \n",
       "2  253664             skrn      28891   \n",
       "3    8254     edgewalker00       2904   \n",
       "4  291149  aManOfCulture99       4181   \n",
       "\n",
       "                                                text  score  \\\n",
       "0  \\n           \\n         \\n           \\n       ...      8   \n",
       "1  \\n           \\n         \\n           \\n       ...     10   \n",
       "2  \\n           \\n         \\n           \\n       ...      7   \n",
       "3  \\n           \\n         \\n           \\n       ...      9   \n",
       "4  \\n           \\n         \\n           \\n       ...     10   \n",
       "\n",
       "                                              scores  \\\n",
       "0  {'Overall': '8', 'Story': '8', 'Animation': '8...   \n",
       "1  {'Overall': '10', 'Story': '10', 'Animation': ...   \n",
       "2  {'Overall': '7', 'Story': '7', 'Animation': '9...   \n",
       "3  {'Overall': '9', 'Story': '9', 'Animation': '9...   \n",
       "4  {'Overall': '10', 'Story': '10', 'Animation': ...   \n",
       "\n",
       "                                            link  \\\n",
       "0  https://myanimelist.net/reviews.php?id=255938   \n",
       "1  https://myanimelist.net/reviews.php?id=259117   \n",
       "2  https://myanimelist.net/reviews.php?id=253664   \n",
       "3    https://myanimelist.net/reviews.php?id=8254   \n",
       "4  https://myanimelist.net/reviews.php?id=291149   \n",
       "\n",
       "                                         dict_scores  Overall  Story  \\\n",
       "0  {'Overall': '8', 'Story': '8', 'Animation': '8...        8      8   \n",
       "1  {'Overall': '10', 'Story': '10', 'Animation': ...       10     10   \n",
       "2  {'Overall': '7', 'Story': '7', 'Animation': '9...        7      7   \n",
       "3  {'Overall': '9', 'Story': '9', 'Animation': '9...        9      9   \n",
       "4  {'Overall': '10', 'Story': '10', 'Animation': ...       10     10   \n",
       "\n",
       "   Animation  Sound  Character  Enjoyment  \n",
       "0          8     10          9          8  \n",
       "1         10     10         10         10  \n",
       "2          9      8          8          8  \n",
       "3          9     10         10          9  \n",
       "4          8      9         10         10  "
      ]
     },
     "execution_count": 72,
     "metadata": {},
     "output_type": "execute_result"
    }
   ],
   "source": [
    "reviews_v2.head()"
   ]
  },
  {
   "cell_type": "markdown",
   "metadata": {},
   "source": [
    "Se ha analizado si pudiese haber relación entre la columna score, definida como la puntuación global, y la columna Overall."
   ]
  },
  {
   "cell_type": "code",
   "execution_count": 73,
   "metadata": {},
   "outputs": [],
   "source": [
    "reviews_v2.loc[:,'check'] = reviews_v2.loc[:,'score']==reviews_v2.loc[:, 'Overall']"
   ]
  },
  {
   "cell_type": "code",
   "execution_count": 74,
   "metadata": {},
   "outputs": [
    {
     "data": {
      "text/plain": [
       "0"
      ]
     },
     "execution_count": 74,
     "metadata": {},
     "output_type": "execute_result"
    }
   ],
   "source": [
    "reviews_v2[reviews_v2.loc[:, 'check'] == False].shape[0]"
   ]
  },
  {
   "cell_type": "code",
   "execution_count": 75,
   "metadata": {},
   "outputs": [],
   "source": [
    "columns = ['profile', 'anime_uid', 'Overall', 'Story', 'Animation', 'Sound', 'Character', 'Enjoyment']\n",
    "reviews_v3 = reviews_v2[columns]"
   ]
  },
  {
   "cell_type": "markdown",
   "metadata": {},
   "source": [
    "#### Output DF Reviews <a class=\"anchor\" id=\"section_3_2\"></a>"
   ]
  },
  {
   "cell_type": "code",
   "execution_count": 76,
   "metadata": {},
   "outputs": [
    {
     "data": {
      "text/html": [
       "<div>\n",
       "<style scoped>\n",
       "    .dataframe tbody tr th:only-of-type {\n",
       "        vertical-align: middle;\n",
       "    }\n",
       "\n",
       "    .dataframe tbody tr th {\n",
       "        vertical-align: top;\n",
       "    }\n",
       "\n",
       "    .dataframe thead th {\n",
       "        text-align: right;\n",
       "    }\n",
       "</style>\n",
       "<table border=\"1\" class=\"dataframe\">\n",
       "  <thead>\n",
       "    <tr style=\"text-align: right;\">\n",
       "      <th></th>\n",
       "      <th>profile</th>\n",
       "      <th>anime_uid</th>\n",
       "      <th>Overall</th>\n",
       "      <th>Story</th>\n",
       "      <th>Animation</th>\n",
       "      <th>Sound</th>\n",
       "      <th>Character</th>\n",
       "      <th>Enjoyment</th>\n",
       "    </tr>\n",
       "  </thead>\n",
       "  <tbody>\n",
       "    <tr>\n",
       "      <th>0</th>\n",
       "      <td>DesolatePsyche</td>\n",
       "      <td>34096</td>\n",
       "      <td>8</td>\n",
       "      <td>8</td>\n",
       "      <td>8</td>\n",
       "      <td>10</td>\n",
       "      <td>9</td>\n",
       "      <td>8</td>\n",
       "    </tr>\n",
       "    <tr>\n",
       "      <th>1</th>\n",
       "      <td>baekbeans</td>\n",
       "      <td>34599</td>\n",
       "      <td>10</td>\n",
       "      <td>10</td>\n",
       "      <td>10</td>\n",
       "      <td>10</td>\n",
       "      <td>10</td>\n",
       "      <td>10</td>\n",
       "    </tr>\n",
       "    <tr>\n",
       "      <th>2</th>\n",
       "      <td>skrn</td>\n",
       "      <td>28891</td>\n",
       "      <td>7</td>\n",
       "      <td>7</td>\n",
       "      <td>9</td>\n",
       "      <td>8</td>\n",
       "      <td>8</td>\n",
       "      <td>8</td>\n",
       "    </tr>\n",
       "    <tr>\n",
       "      <th>3</th>\n",
       "      <td>edgewalker00</td>\n",
       "      <td>2904</td>\n",
       "      <td>9</td>\n",
       "      <td>9</td>\n",
       "      <td>9</td>\n",
       "      <td>10</td>\n",
       "      <td>10</td>\n",
       "      <td>9</td>\n",
       "    </tr>\n",
       "    <tr>\n",
       "      <th>4</th>\n",
       "      <td>aManOfCulture99</td>\n",
       "      <td>4181</td>\n",
       "      <td>10</td>\n",
       "      <td>10</td>\n",
       "      <td>8</td>\n",
       "      <td>9</td>\n",
       "      <td>10</td>\n",
       "      <td>10</td>\n",
       "    </tr>\n",
       "  </tbody>\n",
       "</table>\n",
       "</div>"
      ],
      "text/plain": [
       "           profile  anime_uid  Overall  Story  Animation  Sound  Character  \\\n",
       "0   DesolatePsyche      34096        8      8          8     10          9   \n",
       "1        baekbeans      34599       10     10         10     10         10   \n",
       "2             skrn      28891        7      7          9      8          8   \n",
       "3     edgewalker00       2904        9      9          9     10         10   \n",
       "4  aManOfCulture99       4181       10     10          8      9         10   \n",
       "\n",
       "   Enjoyment  \n",
       "0          8  \n",
       "1         10  \n",
       "2          8  \n",
       "3          9  \n",
       "4         10  "
      ]
     },
     "execution_count": 76,
     "metadata": {},
     "output_type": "execute_result"
    }
   ],
   "source": [
    "reviews_v3.head()"
   ]
  },
  {
   "cell_type": "code",
   "execution_count": 77,
   "metadata": {},
   "outputs": [
    {
     "data": {
      "text/plain": [
       "Index(['profile', 'anime_uid', 'Overall', 'Story', 'Animation', 'Sound',\n",
       "       'Character', 'Enjoyment'],\n",
       "      dtype='object')"
      ]
     },
     "execution_count": 77,
     "metadata": {},
     "output_type": "execute_result"
    }
   ],
   "source": [
    "reviews_v3.columns"
   ]
  },
  {
   "cell_type": "code",
   "execution_count": 78,
   "metadata": {},
   "outputs": [
    {
     "data": {
      "text/plain": [
       "(130519, 8)"
      ]
     },
     "execution_count": 78,
     "metadata": {},
     "output_type": "execute_result"
    }
   ],
   "source": [
    "reviews_v3.shape"
   ]
  },
  {
   "cell_type": "code",
   "execution_count": 79,
   "metadata": {},
   "outputs": [],
   "source": [
    "reviews_v3.to_csv(output_folder + 'reviews.csv', index=False)"
   ]
  }
 ],
 "metadata": {
  "colab": {
   "collapsed_sections": [],
   "name": "DataPreparation.ipynb",
   "provenance": []
  },
  "kernelspec": {
   "display_name": "Python 3 (ipykernel)",
   "language": "python",
   "name": "python3"
  },
  "language_info": {
   "codemirror_mode": {
    "name": "ipython",
    "version": 3
   },
   "file_extension": ".py",
   "mimetype": "text/x-python",
   "name": "python",
   "nbconvert_exporter": "python",
   "pygments_lexer": "ipython3",
   "version": "3.9.7"
  }
 },
 "nbformat": 4,
 "nbformat_minor": 1
}
